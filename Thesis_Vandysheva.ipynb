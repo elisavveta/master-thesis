{
  "cells": [
    {
      "cell_type": "code",
      "execution_count": null,
      "metadata": {
        "colab": {
          "base_uri": "https://localhost:8080/"
        },
        "id": "fnaO8tfSbc-p",
        "outputId": "06835ea2-adbf-4929-9b6d-8efc5243065f"
      },
      "outputs": [
        {
          "output_type": "stream",
          "name": "stdout",
          "text": [
            "Requirement already satisfied: mlcroissant in /usr/local/lib/python3.11/dist-packages (1.0.17)\n",
            "Requirement already satisfied: absl-py in /usr/local/lib/python3.11/dist-packages (from mlcroissant) (1.4.0)\n",
            "Requirement already satisfied: etils>=1.7.0 in /usr/local/lib/python3.11/dist-packages (from etils[epath]>=1.7.0->mlcroissant) (1.12.2)\n",
            "Requirement already satisfied: jsonpath-rw in /usr/local/lib/python3.11/dist-packages (from mlcroissant) (1.4.0)\n",
            "Requirement already satisfied: networkx in /usr/local/lib/python3.11/dist-packages (from mlcroissant) (3.4.2)\n",
            "Requirement already satisfied: pandas in /usr/local/lib/python3.11/dist-packages (from mlcroissant) (2.2.2)\n",
            "Requirement already satisfied: pandas-stubs in /usr/local/lib/python3.11/dist-packages (from mlcroissant) (2.2.2.240909)\n",
            "Requirement already satisfied: python-dateutil in /usr/local/lib/python3.11/dist-packages (from mlcroissant) (2.9.0.post0)\n",
            "Requirement already satisfied: rdflib in /usr/local/lib/python3.11/dist-packages (from mlcroissant) (7.1.4)\n",
            "Requirement already satisfied: requests in /usr/local/lib/python3.11/dist-packages (from mlcroissant) (2.32.3)\n",
            "Requirement already satisfied: scipy in /usr/local/lib/python3.11/dist-packages (from mlcroissant) (1.15.2)\n",
            "Requirement already satisfied: tqdm in /usr/local/lib/python3.11/dist-packages (from mlcroissant) (4.67.1)\n",
            "Requirement already satisfied: fsspec in /usr/local/lib/python3.11/dist-packages (from etils[epath]>=1.7.0->mlcroissant) (2025.3.2)\n",
            "Requirement already satisfied: importlib_resources in /usr/local/lib/python3.11/dist-packages (from etils[epath]>=1.7.0->mlcroissant) (6.5.2)\n",
            "Requirement already satisfied: typing_extensions in /usr/local/lib/python3.11/dist-packages (from etils[epath]>=1.7.0->mlcroissant) (4.13.2)\n",
            "Requirement already satisfied: zipp in /usr/local/lib/python3.11/dist-packages (from etils[epath]>=1.7.0->mlcroissant) (3.21.0)\n",
            "Requirement already satisfied: ply in /usr/local/lib/python3.11/dist-packages (from jsonpath-rw->mlcroissant) (3.11)\n",
            "Requirement already satisfied: decorator in /usr/local/lib/python3.11/dist-packages (from jsonpath-rw->mlcroissant) (4.4.2)\n",
            "Requirement already satisfied: six in /usr/local/lib/python3.11/dist-packages (from jsonpath-rw->mlcroissant) (1.17.0)\n",
            "Requirement already satisfied: numpy>=1.23.2 in /usr/local/lib/python3.11/dist-packages (from pandas->mlcroissant) (2.0.2)\n",
            "Requirement already satisfied: pytz>=2020.1 in /usr/local/lib/python3.11/dist-packages (from pandas->mlcroissant) (2025.2)\n",
            "Requirement already satisfied: tzdata>=2022.7 in /usr/local/lib/python3.11/dist-packages (from pandas->mlcroissant) (2025.2)\n",
            "Requirement already satisfied: types-pytz>=2022.1.1 in /usr/local/lib/python3.11/dist-packages (from pandas-stubs->mlcroissant) (2025.2.0.20250326)\n",
            "Requirement already satisfied: pyparsing<4,>=2.1.0 in /usr/local/lib/python3.11/dist-packages (from rdflib->mlcroissant) (3.2.3)\n",
            "Requirement already satisfied: charset-normalizer<4,>=2 in /usr/local/lib/python3.11/dist-packages (from requests->mlcroissant) (3.4.1)\n",
            "Requirement already satisfied: idna<4,>=2.5 in /usr/local/lib/python3.11/dist-packages (from requests->mlcroissant) (3.10)\n",
            "Requirement already satisfied: urllib3<3,>=1.21.1 in /usr/local/lib/python3.11/dist-packages (from requests->mlcroissant) (2.4.0)\n",
            "Requirement already satisfied: certifi>=2017.4.17 in /usr/local/lib/python3.11/dist-packages (from requests->mlcroissant) (2025.4.26)\n"
          ]
        }
      ],
      "source": [
        "! pip install mlcroissant"
      ]
    },
    {
      "cell_type": "code",
      "execution_count": null,
      "metadata": {
        "colab": {
          "base_uri": "https://localhost:8080/",
          "height": 315
        },
        "id": "Qv5pFpPRamo8",
        "outputId": "a4f666b6-d6d4-465a-9365-dba097662629"
      },
      "outputs": [
        {
          "output_type": "stream",
          "name": "stderr",
          "text": [
            "WARNING:absl:WARNING: The JSON-LD `@context` is not standard. Refer to the official @context (e.g., from the example datasets in https://github.com/mlcommons/croissant/tree/main/datasets/1.0). The different keys are: {'rai', 'examples', 'isLiveDataset'}\n",
            "WARNING:absl:Found the following 1 warning(s) during the validation:\n",
            "  -  [Metadata(Credit Card Fraud Detection)] Property \"http://mlcommons.org/croissant/citeAs\" is recommended, but does not exist.\n"
          ]
        },
        {
          "output_type": "stream",
          "name": "stdout",
          "text": [
            "[RecordSet(uuid=\"creditcard.csv\")]\n"
          ]
        },
        {
          "output_type": "execute_result",
          "data": {
            "text/plain": [
              "   creditcard.csv/Time  creditcard.csv/V1  creditcard.csv/V2  \\\n",
              "0                    0          -1.359807          -0.072781   \n",
              "1                    0           1.191857           0.266151   \n",
              "2                    1          -1.358354          -1.340163   \n",
              "3                    1          -0.966272          -0.185226   \n",
              "4                    2          -1.158233           0.877737   \n",
              "\n",
              "   creditcard.csv/V3  creditcard.csv/V4  creditcard.csv/V5  creditcard.csv/V6  \\\n",
              "0           2.536347           1.378155          -0.338321           0.462388   \n",
              "1           0.166480           0.448154           0.060018          -0.082361   \n",
              "2           1.773209           0.379780          -0.503198           1.800499   \n",
              "3           1.792993          -0.863291          -0.010309           1.247203   \n",
              "4           1.548718           0.403034          -0.407193           0.095921   \n",
              "\n",
              "   creditcard.csv/V7  creditcard.csv/V8  creditcard.csv/V9  ...  \\\n",
              "0           0.239599           0.098698           0.363787  ...   \n",
              "1          -0.078803           0.085102          -0.255425  ...   \n",
              "2           0.791461           0.247676          -1.514654  ...   \n",
              "3           0.237609           0.377436          -1.387024  ...   \n",
              "4           0.592941          -0.270533           0.817739  ...   \n",
              "\n",
              "   creditcard.csv/V21  creditcard.csv/V22  creditcard.csv/V23  \\\n",
              "0           -0.018307            0.277838           -0.110474   \n",
              "1           -0.225775           -0.638672            0.101288   \n",
              "2            0.247998            0.771679            0.909412   \n",
              "3           -0.108300            0.005274           -0.190321   \n",
              "4           -0.009431            0.798278           -0.137458   \n",
              "\n",
              "   creditcard.csv/V24  creditcard.csv/V25  creditcard.csv/V26  \\\n",
              "0            0.066928            0.128539           -0.189115   \n",
              "1           -0.339846            0.167170            0.125895   \n",
              "2           -0.689281           -0.327642           -0.139097   \n",
              "3           -1.175575            0.647376           -0.221929   \n",
              "4            0.141267           -0.206010            0.502292   \n",
              "\n",
              "   creditcard.csv/V27  creditcard.csv/V28  creditcard.csv/Amount  \\\n",
              "0            0.133558           -0.021053                 149.62   \n",
              "1           -0.008983            0.014724                   2.69   \n",
              "2           -0.055353           -0.059752                 378.66   \n",
              "3            0.062723            0.061458                 123.50   \n",
              "4            0.219422            0.215153                  69.99   \n",
              "\n",
              "   creditcard.csv/Class  \n",
              "0                     0  \n",
              "1                     0  \n",
              "2                     0  \n",
              "3                     0  \n",
              "4                     0  \n",
              "\n",
              "[5 rows x 31 columns]"
            ],
            "text/html": [
              "\n",
              "  <div id=\"df-b9ba09f2-a239-47ab-b788-0b0677376918\" class=\"colab-df-container\">\n",
              "    <div>\n",
              "<style scoped>\n",
              "    .dataframe tbody tr th:only-of-type {\n",
              "        vertical-align: middle;\n",
              "    }\n",
              "\n",
              "    .dataframe tbody tr th {\n",
              "        vertical-align: top;\n",
              "    }\n",
              "\n",
              "    .dataframe thead th {\n",
              "        text-align: right;\n",
              "    }\n",
              "</style>\n",
              "<table border=\"1\" class=\"dataframe\">\n",
              "  <thead>\n",
              "    <tr style=\"text-align: right;\">\n",
              "      <th></th>\n",
              "      <th>creditcard.csv/Time</th>\n",
              "      <th>creditcard.csv/V1</th>\n",
              "      <th>creditcard.csv/V2</th>\n",
              "      <th>creditcard.csv/V3</th>\n",
              "      <th>creditcard.csv/V4</th>\n",
              "      <th>creditcard.csv/V5</th>\n",
              "      <th>creditcard.csv/V6</th>\n",
              "      <th>creditcard.csv/V7</th>\n",
              "      <th>creditcard.csv/V8</th>\n",
              "      <th>creditcard.csv/V9</th>\n",
              "      <th>...</th>\n",
              "      <th>creditcard.csv/V21</th>\n",
              "      <th>creditcard.csv/V22</th>\n",
              "      <th>creditcard.csv/V23</th>\n",
              "      <th>creditcard.csv/V24</th>\n",
              "      <th>creditcard.csv/V25</th>\n",
              "      <th>creditcard.csv/V26</th>\n",
              "      <th>creditcard.csv/V27</th>\n",
              "      <th>creditcard.csv/V28</th>\n",
              "      <th>creditcard.csv/Amount</th>\n",
              "      <th>creditcard.csv/Class</th>\n",
              "    </tr>\n",
              "  </thead>\n",
              "  <tbody>\n",
              "    <tr>\n",
              "      <th>0</th>\n",
              "      <td>0</td>\n",
              "      <td>-1.359807</td>\n",
              "      <td>-0.072781</td>\n",
              "      <td>2.536347</td>\n",
              "      <td>1.378155</td>\n",
              "      <td>-0.338321</td>\n",
              "      <td>0.462388</td>\n",
              "      <td>0.239599</td>\n",
              "      <td>0.098698</td>\n",
              "      <td>0.363787</td>\n",
              "      <td>...</td>\n",
              "      <td>-0.018307</td>\n",
              "      <td>0.277838</td>\n",
              "      <td>-0.110474</td>\n",
              "      <td>0.066928</td>\n",
              "      <td>0.128539</td>\n",
              "      <td>-0.189115</td>\n",
              "      <td>0.133558</td>\n",
              "      <td>-0.021053</td>\n",
              "      <td>149.62</td>\n",
              "      <td>0</td>\n",
              "    </tr>\n",
              "    <tr>\n",
              "      <th>1</th>\n",
              "      <td>0</td>\n",
              "      <td>1.191857</td>\n",
              "      <td>0.266151</td>\n",
              "      <td>0.166480</td>\n",
              "      <td>0.448154</td>\n",
              "      <td>0.060018</td>\n",
              "      <td>-0.082361</td>\n",
              "      <td>-0.078803</td>\n",
              "      <td>0.085102</td>\n",
              "      <td>-0.255425</td>\n",
              "      <td>...</td>\n",
              "      <td>-0.225775</td>\n",
              "      <td>-0.638672</td>\n",
              "      <td>0.101288</td>\n",
              "      <td>-0.339846</td>\n",
              "      <td>0.167170</td>\n",
              "      <td>0.125895</td>\n",
              "      <td>-0.008983</td>\n",
              "      <td>0.014724</td>\n",
              "      <td>2.69</td>\n",
              "      <td>0</td>\n",
              "    </tr>\n",
              "    <tr>\n",
              "      <th>2</th>\n",
              "      <td>1</td>\n",
              "      <td>-1.358354</td>\n",
              "      <td>-1.340163</td>\n",
              "      <td>1.773209</td>\n",
              "      <td>0.379780</td>\n",
              "      <td>-0.503198</td>\n",
              "      <td>1.800499</td>\n",
              "      <td>0.791461</td>\n",
              "      <td>0.247676</td>\n",
              "      <td>-1.514654</td>\n",
              "      <td>...</td>\n",
              "      <td>0.247998</td>\n",
              "      <td>0.771679</td>\n",
              "      <td>0.909412</td>\n",
              "      <td>-0.689281</td>\n",
              "      <td>-0.327642</td>\n",
              "      <td>-0.139097</td>\n",
              "      <td>-0.055353</td>\n",
              "      <td>-0.059752</td>\n",
              "      <td>378.66</td>\n",
              "      <td>0</td>\n",
              "    </tr>\n",
              "    <tr>\n",
              "      <th>3</th>\n",
              "      <td>1</td>\n",
              "      <td>-0.966272</td>\n",
              "      <td>-0.185226</td>\n",
              "      <td>1.792993</td>\n",
              "      <td>-0.863291</td>\n",
              "      <td>-0.010309</td>\n",
              "      <td>1.247203</td>\n",
              "      <td>0.237609</td>\n",
              "      <td>0.377436</td>\n",
              "      <td>-1.387024</td>\n",
              "      <td>...</td>\n",
              "      <td>-0.108300</td>\n",
              "      <td>0.005274</td>\n",
              "      <td>-0.190321</td>\n",
              "      <td>-1.175575</td>\n",
              "      <td>0.647376</td>\n",
              "      <td>-0.221929</td>\n",
              "      <td>0.062723</td>\n",
              "      <td>0.061458</td>\n",
              "      <td>123.50</td>\n",
              "      <td>0</td>\n",
              "    </tr>\n",
              "    <tr>\n",
              "      <th>4</th>\n",
              "      <td>2</td>\n",
              "      <td>-1.158233</td>\n",
              "      <td>0.877737</td>\n",
              "      <td>1.548718</td>\n",
              "      <td>0.403034</td>\n",
              "      <td>-0.407193</td>\n",
              "      <td>0.095921</td>\n",
              "      <td>0.592941</td>\n",
              "      <td>-0.270533</td>\n",
              "      <td>0.817739</td>\n",
              "      <td>...</td>\n",
              "      <td>-0.009431</td>\n",
              "      <td>0.798278</td>\n",
              "      <td>-0.137458</td>\n",
              "      <td>0.141267</td>\n",
              "      <td>-0.206010</td>\n",
              "      <td>0.502292</td>\n",
              "      <td>0.219422</td>\n",
              "      <td>0.215153</td>\n",
              "      <td>69.99</td>\n",
              "      <td>0</td>\n",
              "    </tr>\n",
              "  </tbody>\n",
              "</table>\n",
              "<p>5 rows × 31 columns</p>\n",
              "</div>\n",
              "    <div class=\"colab-df-buttons\">\n",
              "\n",
              "  <div class=\"colab-df-container\">\n",
              "    <button class=\"colab-df-convert\" onclick=\"convertToInteractive('df-b9ba09f2-a239-47ab-b788-0b0677376918')\"\n",
              "            title=\"Convert this dataframe to an interactive table.\"\n",
              "            style=\"display:none;\">\n",
              "\n",
              "  <svg xmlns=\"http://www.w3.org/2000/svg\" height=\"24px\" viewBox=\"0 -960 960 960\">\n",
              "    <path d=\"M120-120v-720h720v720H120Zm60-500h600v-160H180v160Zm220 220h160v-160H400v160Zm0 220h160v-160H400v160ZM180-400h160v-160H180v160Zm440 0h160v-160H620v160ZM180-180h160v-160H180v160Zm440 0h160v-160H620v160Z\"/>\n",
              "  </svg>\n",
              "    </button>\n",
              "\n",
              "  <style>\n",
              "    .colab-df-container {\n",
              "      display:flex;\n",
              "      gap: 12px;\n",
              "    }\n",
              "\n",
              "    .colab-df-convert {\n",
              "      background-color: #E8F0FE;\n",
              "      border: none;\n",
              "      border-radius: 50%;\n",
              "      cursor: pointer;\n",
              "      display: none;\n",
              "      fill: #1967D2;\n",
              "      height: 32px;\n",
              "      padding: 0 0 0 0;\n",
              "      width: 32px;\n",
              "    }\n",
              "\n",
              "    .colab-df-convert:hover {\n",
              "      background-color: #E2EBFA;\n",
              "      box-shadow: 0px 1px 2px rgba(60, 64, 67, 0.3), 0px 1px 3px 1px rgba(60, 64, 67, 0.15);\n",
              "      fill: #174EA6;\n",
              "    }\n",
              "\n",
              "    .colab-df-buttons div {\n",
              "      margin-bottom: 4px;\n",
              "    }\n",
              "\n",
              "    [theme=dark] .colab-df-convert {\n",
              "      background-color: #3B4455;\n",
              "      fill: #D2E3FC;\n",
              "    }\n",
              "\n",
              "    [theme=dark] .colab-df-convert:hover {\n",
              "      background-color: #434B5C;\n",
              "      box-shadow: 0px 1px 3px 1px rgba(0, 0, 0, 0.15);\n",
              "      filter: drop-shadow(0px 1px 2px rgba(0, 0, 0, 0.3));\n",
              "      fill: #FFFFFF;\n",
              "    }\n",
              "  </style>\n",
              "\n",
              "    <script>\n",
              "      const buttonEl =\n",
              "        document.querySelector('#df-b9ba09f2-a239-47ab-b788-0b0677376918 button.colab-df-convert');\n",
              "      buttonEl.style.display =\n",
              "        google.colab.kernel.accessAllowed ? 'block' : 'none';\n",
              "\n",
              "      async function convertToInteractive(key) {\n",
              "        const element = document.querySelector('#df-b9ba09f2-a239-47ab-b788-0b0677376918');\n",
              "        const dataTable =\n",
              "          await google.colab.kernel.invokeFunction('convertToInteractive',\n",
              "                                                    [key], {});\n",
              "        if (!dataTable) return;\n",
              "\n",
              "        const docLinkHtml = 'Like what you see? Visit the ' +\n",
              "          '<a target=\"_blank\" href=https://colab.research.google.com/notebooks/data_table.ipynb>data table notebook</a>'\n",
              "          + ' to learn more about interactive tables.';\n",
              "        element.innerHTML = '';\n",
              "        dataTable['output_type'] = 'display_data';\n",
              "        await google.colab.output.renderOutput(dataTable, element);\n",
              "        const docLink = document.createElement('div');\n",
              "        docLink.innerHTML = docLinkHtml;\n",
              "        element.appendChild(docLink);\n",
              "      }\n",
              "    </script>\n",
              "  </div>\n",
              "\n",
              "\n",
              "    <div id=\"df-0077b961-b934-4e68-8941-2dc78a30ab2e\">\n",
              "      <button class=\"colab-df-quickchart\" onclick=\"quickchart('df-0077b961-b934-4e68-8941-2dc78a30ab2e')\"\n",
              "                title=\"Suggest charts\"\n",
              "                style=\"display:none;\">\n",
              "\n",
              "<svg xmlns=\"http://www.w3.org/2000/svg\" height=\"24px\"viewBox=\"0 0 24 24\"\n",
              "     width=\"24px\">\n",
              "    <g>\n",
              "        <path d=\"M19 3H5c-1.1 0-2 .9-2 2v14c0 1.1.9 2 2 2h14c1.1 0 2-.9 2-2V5c0-1.1-.9-2-2-2zM9 17H7v-7h2v7zm4 0h-2V7h2v10zm4 0h-2v-4h2v4z\"/>\n",
              "    </g>\n",
              "</svg>\n",
              "      </button>\n",
              "\n",
              "<style>\n",
              "  .colab-df-quickchart {\n",
              "      --bg-color: #E8F0FE;\n",
              "      --fill-color: #1967D2;\n",
              "      --hover-bg-color: #E2EBFA;\n",
              "      --hover-fill-color: #174EA6;\n",
              "      --disabled-fill-color: #AAA;\n",
              "      --disabled-bg-color: #DDD;\n",
              "  }\n",
              "\n",
              "  [theme=dark] .colab-df-quickchart {\n",
              "      --bg-color: #3B4455;\n",
              "      --fill-color: #D2E3FC;\n",
              "      --hover-bg-color: #434B5C;\n",
              "      --hover-fill-color: #FFFFFF;\n",
              "      --disabled-bg-color: #3B4455;\n",
              "      --disabled-fill-color: #666;\n",
              "  }\n",
              "\n",
              "  .colab-df-quickchart {\n",
              "    background-color: var(--bg-color);\n",
              "    border: none;\n",
              "    border-radius: 50%;\n",
              "    cursor: pointer;\n",
              "    display: none;\n",
              "    fill: var(--fill-color);\n",
              "    height: 32px;\n",
              "    padding: 0;\n",
              "    width: 32px;\n",
              "  }\n",
              "\n",
              "  .colab-df-quickchart:hover {\n",
              "    background-color: var(--hover-bg-color);\n",
              "    box-shadow: 0 1px 2px rgba(60, 64, 67, 0.3), 0 1px 3px 1px rgba(60, 64, 67, 0.15);\n",
              "    fill: var(--button-hover-fill-color);\n",
              "  }\n",
              "\n",
              "  .colab-df-quickchart-complete:disabled,\n",
              "  .colab-df-quickchart-complete:disabled:hover {\n",
              "    background-color: var(--disabled-bg-color);\n",
              "    fill: var(--disabled-fill-color);\n",
              "    box-shadow: none;\n",
              "  }\n",
              "\n",
              "  .colab-df-spinner {\n",
              "    border: 2px solid var(--fill-color);\n",
              "    border-color: transparent;\n",
              "    border-bottom-color: var(--fill-color);\n",
              "    animation:\n",
              "      spin 1s steps(1) infinite;\n",
              "  }\n",
              "\n",
              "  @keyframes spin {\n",
              "    0% {\n",
              "      border-color: transparent;\n",
              "      border-bottom-color: var(--fill-color);\n",
              "      border-left-color: var(--fill-color);\n",
              "    }\n",
              "    20% {\n",
              "      border-color: transparent;\n",
              "      border-left-color: var(--fill-color);\n",
              "      border-top-color: var(--fill-color);\n",
              "    }\n",
              "    30% {\n",
              "      border-color: transparent;\n",
              "      border-left-color: var(--fill-color);\n",
              "      border-top-color: var(--fill-color);\n",
              "      border-right-color: var(--fill-color);\n",
              "    }\n",
              "    40% {\n",
              "      border-color: transparent;\n",
              "      border-right-color: var(--fill-color);\n",
              "      border-top-color: var(--fill-color);\n",
              "    }\n",
              "    60% {\n",
              "      border-color: transparent;\n",
              "      border-right-color: var(--fill-color);\n",
              "    }\n",
              "    80% {\n",
              "      border-color: transparent;\n",
              "      border-right-color: var(--fill-color);\n",
              "      border-bottom-color: var(--fill-color);\n",
              "    }\n",
              "    90% {\n",
              "      border-color: transparent;\n",
              "      border-bottom-color: var(--fill-color);\n",
              "    }\n",
              "  }\n",
              "</style>\n",
              "\n",
              "      <script>\n",
              "        async function quickchart(key) {\n",
              "          const quickchartButtonEl =\n",
              "            document.querySelector('#' + key + ' button');\n",
              "          quickchartButtonEl.disabled = true;  // To prevent multiple clicks.\n",
              "          quickchartButtonEl.classList.add('colab-df-spinner');\n",
              "          try {\n",
              "            const charts = await google.colab.kernel.invokeFunction(\n",
              "                'suggestCharts', [key], {});\n",
              "          } catch (error) {\n",
              "            console.error('Error during call to suggestCharts:', error);\n",
              "          }\n",
              "          quickchartButtonEl.classList.remove('colab-df-spinner');\n",
              "          quickchartButtonEl.classList.add('colab-df-quickchart-complete');\n",
              "        }\n",
              "        (() => {\n",
              "          let quickchartButtonEl =\n",
              "            document.querySelector('#df-0077b961-b934-4e68-8941-2dc78a30ab2e button');\n",
              "          quickchartButtonEl.style.display =\n",
              "            google.colab.kernel.accessAllowed ? 'block' : 'none';\n",
              "        })();\n",
              "      </script>\n",
              "    </div>\n",
              "\n",
              "    </div>\n",
              "  </div>\n"
            ],
            "application/vnd.google.colaboratory.intrinsic+json": {
              "type": "dataframe",
              "variable_name": "record_set_df"
            }
          },
          "metadata": {},
          "execution_count": 2
        }
      ],
      "source": [
        "import mlcroissant as mlc\n",
        "import pandas as pd\n",
        "\n",
        "# Fetch the Croissant JSON-LD\n",
        "croissant_dataset = mlc.Dataset('https://www.kaggle.com/datasets/mlg-ulb/creditcardfraud/croissant/download')\n",
        "\n",
        "# Check what record sets are in the dataset\n",
        "record_sets = croissant_dataset.metadata.record_sets\n",
        "print(record_sets)\n",
        "\n",
        "# Fetch the records and put them in a DataFrame\n",
        "record_set_df = pd.DataFrame(croissant_dataset.records(record_set=record_sets[0].uuid))\n",
        "record_set_df.head()"
      ]
    },
    {
      "cell_type": "code",
      "execution_count": null,
      "metadata": {
        "colab": {
          "base_uri": "https://localhost:8080/"
        },
        "id": "VzCuTtsd-Ake",
        "outputId": "c3d51a98-0786-4270-fdfb-6abe609156e5"
      },
      "outputs": [
        {
          "output_type": "stream",
          "name": "stdout",
          "text": [
            "   Time        V1        V2        V3        V4        V5        V6        V7  \\\n",
            "0     0 -1.359807 -0.072781  2.536347  1.378155 -0.338321  0.462388  0.239599   \n",
            "1     0  1.191857  0.266151  0.166480  0.448154  0.060018 -0.082361 -0.078803   \n",
            "2     1 -1.358354 -1.340163  1.773209  0.379780 -0.503198  1.800499  0.791461   \n",
            "3     1 -0.966272 -0.185226  1.792993 -0.863291 -0.010309  1.247203  0.237609   \n",
            "4     2 -1.158233  0.877737  1.548718  0.403034 -0.407193  0.095921  0.592941   \n",
            "\n",
            "         V8        V9  ...       V21       V22       V23       V24       V25  \\\n",
            "0  0.098698  0.363787  ... -0.018307  0.277838 -0.110474  0.066928  0.128539   \n",
            "1  0.085102 -0.255425  ... -0.225775 -0.638672  0.101288 -0.339846  0.167170   \n",
            "2  0.247676 -1.514654  ...  0.247998  0.771679  0.909412 -0.689281 -0.327642   \n",
            "3  0.377436 -1.387024  ... -0.108300  0.005274 -0.190321 -1.175575  0.647376   \n",
            "4 -0.270533  0.817739  ... -0.009431  0.798278 -0.137458  0.141267 -0.206010   \n",
            "\n",
            "        V26       V27       V28  Amount  Class  \n",
            "0 -0.189115  0.133558 -0.021053  149.62      0  \n",
            "1  0.125895 -0.008983  0.014724    2.69      0  \n",
            "2 -0.139097 -0.055353 -0.059752  378.66      0  \n",
            "3 -0.221929  0.062723  0.061458  123.50      0  \n",
            "4  0.502292  0.219422  0.215153   69.99      0  \n",
            "\n",
            "[5 rows x 31 columns]\n"
          ]
        }
      ],
      "source": [
        "# Preparing the data\n",
        "record_set_df.columns = record_set_df.columns.str.replace(\"creditcard.csv/\", \"\", regex=False)\n",
        "print(record_set_df.head())"
      ]
    },
    {
      "cell_type": "code",
      "execution_count": null,
      "metadata": {
        "colab": {
          "base_uri": "https://localhost:8080/"
        },
        "id": "xoifvvVn9NZj",
        "outputId": "2e94c007-db74-4ff6-ccfd-76679ea32593"
      },
      "outputs": [
        {
          "output_type": "stream",
          "name": "stdout",
          "text": [
            "Dataset shape: (284807, 31)\n",
            "   Time        V1        V2        V3        V4        V5        V6        V7  \\\n",
            "0     0 -1.359807 -0.072781  2.536347  1.378155 -0.338321  0.462388  0.239599   \n",
            "1     0  1.191857  0.266151  0.166480  0.448154  0.060018 -0.082361 -0.078803   \n",
            "2     1 -1.358354 -1.340163  1.773209  0.379780 -0.503198  1.800499  0.791461   \n",
            "3     1 -0.966272 -0.185226  1.792993 -0.863291 -0.010309  1.247203  0.237609   \n",
            "4     2 -1.158233  0.877737  1.548718  0.403034 -0.407193  0.095921  0.592941   \n",
            "\n",
            "         V8        V9  ...       V21       V22       V23       V24       V25  \\\n",
            "0  0.098698  0.363787  ... -0.018307  0.277838 -0.110474  0.066928  0.128539   \n",
            "1  0.085102 -0.255425  ... -0.225775 -0.638672  0.101288 -0.339846  0.167170   \n",
            "2  0.247676 -1.514654  ...  0.247998  0.771679  0.909412 -0.689281 -0.327642   \n",
            "3  0.377436 -1.387024  ... -0.108300  0.005274 -0.190321 -1.175575  0.647376   \n",
            "4 -0.270533  0.817739  ... -0.009431  0.798278 -0.137458  0.141267 -0.206010   \n",
            "\n",
            "        V26       V27       V28  Amount  Class  \n",
            "0 -0.189115  0.133558 -0.021053  149.62      0  \n",
            "1  0.125895 -0.008983  0.014724    2.69      0  \n",
            "2 -0.139097 -0.055353 -0.059752  378.66      0  \n",
            "3 -0.221929  0.062723  0.061458  123.50      0  \n",
            "4  0.502292  0.219422  0.215153   69.99      0  \n",
            "\n",
            "[5 rows x 31 columns]\n",
            "<class 'pandas.core.frame.DataFrame'>\n",
            "RangeIndex: 284807 entries, 0 to 284806\n",
            "Data columns (total 31 columns):\n",
            " #   Column  Non-Null Count   Dtype  \n",
            "---  ------  --------------   -----  \n",
            " 0   Time    284807 non-null  int64  \n",
            " 1   V1      284807 non-null  float64\n",
            " 2   V2      284807 non-null  float64\n",
            " 3   V3      284807 non-null  float64\n",
            " 4   V4      284807 non-null  float64\n",
            " 5   V5      284807 non-null  float64\n",
            " 6   V6      284807 non-null  float64\n",
            " 7   V7      284807 non-null  float64\n",
            " 8   V8      284807 non-null  float64\n",
            " 9   V9      284807 non-null  float64\n",
            " 10  V10     284807 non-null  float64\n",
            " 11  V11     284807 non-null  float64\n",
            " 12  V12     284807 non-null  float64\n",
            " 13  V13     284807 non-null  float64\n",
            " 14  V14     284807 non-null  float64\n",
            " 15  V15     284807 non-null  float64\n",
            " 16  V16     284807 non-null  float64\n",
            " 17  V17     284807 non-null  float64\n",
            " 18  V18     284807 non-null  float64\n",
            " 19  V19     284807 non-null  float64\n",
            " 20  V20     284807 non-null  float64\n",
            " 21  V21     284807 non-null  float64\n",
            " 22  V22     284807 non-null  float64\n",
            " 23  V23     284807 non-null  float64\n",
            " 24  V24     284807 non-null  float64\n",
            " 25  V25     284807 non-null  float64\n",
            " 26  V26     284807 non-null  float64\n",
            " 27  V27     284807 non-null  float64\n",
            " 28  V28     284807 non-null  float64\n",
            " 29  Amount  284807 non-null  float64\n",
            " 30  Class   284807 non-null  int64  \n",
            "dtypes: float64(29), int64(2)\n",
            "memory usage: 67.4 MB\n",
            "None\n",
            "Missing values per column:\n",
            " Series([], dtype: int64)\n"
          ]
        }
      ],
      "source": [
        "# 1) EDA\n",
        "\n",
        "import pandas as pd\n",
        "\n",
        "print(f\"Dataset shape: {record_set_df.shape}\")\n",
        "print(record_set_df.head())\n",
        "\n",
        "# Checking for data types and N/a's\n",
        "print(record_set_df.info())\n",
        "missing_values = record_set_df.isnull().sum()\n",
        "print(\"Missing values per column:\\n\", missing_values[missing_values > 0])"
      ]
    },
    {
      "cell_type": "code",
      "execution_count": null,
      "metadata": {
        "colab": {
          "base_uri": "https://localhost:8080/",
          "height": 577
        },
        "id": "OxiZc0wt9P8m",
        "outputId": "9ab940e6-91f6-40c9-898a-8754982710da"
      },
      "outputs": [
        {
          "output_type": "stream",
          "name": "stdout",
          "text": [
            "Class\n",
            "0    284315\n",
            "1       492\n",
            "Name: count, dtype: int64\n"
          ]
        },
        {
          "output_type": "stream",
          "name": "stderr",
          "text": [
            "<ipython-input-5-15dac31c2926>:11: FutureWarning: \n",
            "\n",
            "Passing `palette` without assigning `hue` is deprecated and will be removed in v0.14.0. Assign the `x` variable to `hue` and set `legend=False` for the same effect.\n",
            "\n",
            "  sns.barplot(x=class_counts.index, y=class_counts.values, palette=\"Blues\")\n"
          ]
        },
        {
          "output_type": "display_data",
          "data": {
            "text/plain": [
              "<Figure size 600x400 with 1 Axes>"
            ],
            "image/png": "[encoded data removed]"
          },
          "metadata": {}
        }
      ],
      "source": [
        "# 2) Checking the class imbalance level\n",
        "\n",
        "import matplotlib.pyplot as plt\n",
        "import seaborn as sns\n",
        "\n",
        "class_counts = record_set_df['Class'].value_counts()\n",
        "print(class_counts)\n",
        "\n",
        "# Making a plot\n",
        "plt.figure(figsize=(6,4))\n",
        "sns.barplot(x=class_counts.index, y=class_counts.values, palette=\"Blues\")\n",
        "plt.xticks([0, 1], ['Non-Fraud', 'Fraud'])\n",
        "plt.xlabel(\"Transaction Type\")\n",
        "plt.ylabel(\"Count\")\n",
        "plt.title(\"Class Distribution in Dataset\")\n",
        "plt.show()\n"
      ]
    },
    {
      "cell_type": "code",
      "execution_count": null,
      "metadata": {
        "colab": {
          "base_uri": "https://localhost:8080/",
          "height": 409
        },
        "id": "XM397zL_BOPO",
        "outputId": "8d72f596-1315-468a-8b34-a2ca6e048bda"
      },
      "outputs": [
        {
          "output_type": "display_data",
          "data": {
            "text/plain": [
              "<Figure size 800x400 with 1 Axes>"
            ],
            "image/png": "[encoded data removed]"
          },
          "metadata": {}
        }
      ],
      "source": [
        "# 3) Checking the variables distribution\n",
        "\n",
        "# Transaction amounts plot\n",
        "plt.figure(figsize=(8,4))\n",
        "sns.histplot(record_set_df['Amount'], bins=50, kde=True)\n",
        "plt.xlabel(\"Transaction Amount\")\n",
        "plt.ylabel(\"Frequency\")\n",
        "plt.title(\"Distribution of Transaction Amounts\")\n",
        "plt.show()\n"
      ]
    },
    {
      "cell_type": "code",
      "execution_count": null,
      "metadata": {
        "colab": {
          "base_uri": "https://localhost:8080/"
        },
        "id": "lO7KdA7nCEVB",
        "outputId": "3b91d435-a70b-4513-a8ae-7fe84ae16513"
      },
      "outputs": [
        {
          "output_type": "stream",
          "name": "stdout",
          "text": [
            "count    284807.000000\n",
            "mean         88.349619\n",
            "std         250.120109\n",
            "min           0.000000\n",
            "25%           5.600000\n",
            "50%          22.000000\n",
            "75%          77.165000\n",
            "max       25691.160000\n",
            "Name: Amount, dtype: float64\n",
            "Fraud Transactions Amount Stats:\n",
            " count     492.000000\n",
            "mean      122.211321\n",
            "std       256.683288\n",
            "min         0.000000\n",
            "25%         1.000000\n",
            "50%         9.250000\n",
            "75%       105.890000\n",
            "max      2125.870000\n",
            "Name: Amount, dtype: float64\n",
            "Non-Fraud Transactions Amount Stats:\n",
            " count    284315.000000\n",
            "mean         88.291022\n",
            "std         250.105092\n",
            "min           0.000000\n",
            "25%           5.650000\n",
            "50%          22.000000\n",
            "75%          77.050000\n",
            "max       25691.160000\n",
            "Name: Amount, dtype: float64\n"
          ]
        }
      ],
      "source": [
        "# Transaction amounts statistics\n",
        "amount_stats = record_set_df['Amount'].describe()\n",
        "print(amount_stats)\n",
        "\n",
        "# Checking the fraud and non-fraud trasactions separetely\n",
        "fraud_amount_stats = record_set_df[record_set_df['Class'] == 1]['Amount'].describe()\n",
        "non_fraud_amount_stats = record_set_df[record_set_df['Class'] == 0]['Amount'].describe()\n",
        "\n",
        "print(\"Fraud Transactions Amount Stats:\\n\", fraud_amount_stats)\n",
        "print(\"Non-Fraud Transactions Amount Stats:\\n\", non_fraud_amount_stats)"
      ]
    },
    {
      "cell_type": "code",
      "execution_count": null,
      "metadata": {
        "colab": {
          "base_uri": "https://localhost:8080/",
          "height": 507
        },
        "id": "DsuvmF55D6w7",
        "outputId": "83637a6b-2946-4940-962d-1a0a44705a00"
      },
      "outputs": [
        {
          "output_type": "display_data",
          "data": {
            "text/plain": [
              "<Figure size 1200x500 with 2 Axes>"
            ],
            "image/png": "[encoded data removed]"
          },
          "metadata": {}
        }
      ],
      "source": [
        "# Visualising the fraud and non-fraud trasactions separetely\n",
        "plt.figure(figsize=(12,5))\n",
        "\n",
        "# non-fraud trasactions\n",
        "plt.subplot(1,2,1)\n",
        "sns.histplot(record_set_df[record_set_df[\"Class\"] == 0][\"Amount\"], bins=50, kde=True, color=\"blue\")\n",
        "plt.xlabel(\"Transaction Amount\")\n",
        "plt.ylabel(\"Frequency\")\n",
        "plt.title(\"Non-Fraud Transactions\")\n",
        "\n",
        "# fraud trasactions\n",
        "plt.subplot(1,2,2)\n",
        "sns.histplot(record_set_df[record_set_df[\"Class\"] == 1][\"Amount\"], bins=50, kde=True, color=\"red\")\n",
        "plt.xlabel(\"Transaction Amount\")\n",
        "plt.ylabel(\"Frequency\")\n",
        "plt.title(\"Fraud Transactions\")\n",
        "\n",
        "plt.tight_layout()\n",
        "plt.show()\n"
      ]
    },
    {
      "cell_type": "code",
      "execution_count": null,
      "metadata": {
        "colab": {
          "base_uri": "https://localhost:8080/",
          "height": 487
        },
        "id": "H6sbqLHUBXLD",
        "outputId": "3bb84f25-4216-4f9f-d863-748efcca3287"
      },
      "outputs": [
        {
          "output_type": "display_data",
          "data": {
            "text/plain": [
              "<Figure size 1000x500 with 1 Axes>"
            ],
            "image/png": "[encoded data removed]"
          },
          "metadata": {}
        }
      ],
      "source": [
        "# 4) Time patterns analysis\n",
        "\n",
        "if 'Time' in record_set_df.columns:\n",
        "    plt.figure(figsize=(10,5))\n",
        "    sns.histplot(record_set_df[record_set_df['Class'] == 1]['Time'], bins=50, color='red', label='Fraud', kde=True)\n",
        "    sns.histplot(record_set_df[record_set_df['Class'] == 0]['Time'], bins=50, color='blue', label='Non-Fraud', kde=True)\n",
        "    plt.xlabel(\"Time (seconds since first transaction)\")\n",
        "    plt.ylabel(\"Frequency\")\n",
        "    plt.title(\"Transaction Time Distribution\")\n",
        "    plt.legend()\n",
        "    plt.show()"
      ]
    },
    {
      "cell_type": "code",
      "execution_count": null,
      "metadata": {
        "colab": {
          "base_uri": "https://localhost:8080/"
        },
        "id": "d4aC7ZN6GBFY",
        "outputId": "91e95357-fae2-4511-a415-826810223e24"
      },
      "outputs": [
        {
          "output_type": "stream",
          "name": "stdout",
          "text": [
            "Overall Time Stats:\n",
            " count    284807.000000\n",
            "mean      94813.859575\n",
            "std       47488.145955\n",
            "min           0.000000\n",
            "25%       54201.500000\n",
            "50%       84692.000000\n",
            "75%      139320.500000\n",
            "max      172792.000000\n",
            "Name: Time, dtype: float64\n",
            "\n",
            "Fraud Transactions Time Stats:\n",
            " count       492.000000\n",
            "mean      80746.806911\n",
            "std       47835.365138\n",
            "min         406.000000\n",
            "25%       41241.500000\n",
            "50%       75568.500000\n",
            "75%      128483.000000\n",
            "max      170348.000000\n",
            "Name: Time, dtype: float64\n",
            "\n",
            "Non-Fraud Transactions Time Stats:\n",
            " count    284315.000000\n",
            "mean      94838.202258\n",
            "std       47484.015786\n",
            "min           0.000000\n",
            "25%       54230.000000\n",
            "50%       84711.000000\n",
            "75%      139333.000000\n",
            "max      172792.000000\n",
            "Name: Time, dtype: float64\n"
          ]
        }
      ],
      "source": [
        "# Main time variable stats\n",
        "time_stats = record_set_df['Time'].describe()\n",
        "print(\"Overall Time Stats:\\n\", time_stats)\n",
        "\n",
        "# Time variable stats for non-fraud trasactions\n",
        "fraud_time_stats = record_set_df[record_set_df[\"Class\"] == 1][\"Time\"].describe()\n",
        "print(\"\\nFraud Transactions Time Stats:\\n\", fraud_time_stats)\n",
        "\n",
        "# Time variable stats for fraud trasactions\n",
        "non_fraud_time_stats = record_set_df[record_set_df[\"Class\"] == 0][\"Time\"].describe()\n",
        "print(\"\\nNon-Fraud Transactions Time Stats:\\n\", non_fraud_time_stats)\n"
      ]
    },
    {
      "cell_type": "code",
      "execution_count": null,
      "metadata": {
        "colab": {
          "base_uri": "https://localhost:8080/",
          "height": 507
        },
        "id": "-s3irVz1Hdof",
        "outputId": "ef517f3d-1914-4dd6-db1c-bddec0d428e3"
      },
      "outputs": [
        {
          "output_type": "display_data",
          "data": {
            "text/plain": [
              "<Figure size 1200x500 with 2 Axes>"
            ],
            "image/png": "[encoded data removed]"
          },
          "metadata": {}
        }
      ],
      "source": [
        "plt.figure(figsize=(12,5))\n",
        "\n",
        "plt.subplot(1,2,1)\n",
        "sns.histplot(record_set_df[record_set_df[\"Class\"] == 0][\"Time\"], bins=50, kde=True, color=\"blue\")\n",
        "plt.xlabel(\"Time (seconds since first transaction)\")\n",
        "plt.ylabel(\"Frequency\")\n",
        "plt.title(\"Non-Fraud Transactions\")\n",
        "\n",
        "plt.subplot(1,2,2)\n",
        "sns.histplot(record_set_df[record_set_df[\"Class\"] == 1][\"Time\"], bins=50, kde=True, color=\"red\")\n",
        "plt.xlabel(\"Time (seconds since first transaction)\")\n",
        "plt.ylabel(\"Frequency\")\n",
        "plt.title(\"Fraud Transactions\")\n",
        "\n",
        "plt.tight_layout()\n",
        "plt.show()\n"
      ]
    },
    {
      "cell_type": "code",
      "execution_count": null,
      "metadata": {
        "colab": {
          "base_uri": "https://localhost:8080/"
        },
        "id": "_2MZHTOPPb32",
        "outputId": "f9aa94cc-c4c3-41a0-e571-b6e78070a526"
      },
      "outputs": [
        {
          "output_type": "stream",
          "name": "stdout",
          "text": [
            "             Amount          Time\n",
            "count  2.848070e+05  2.848070e+05\n",
            "mean   2.913952e-17 -3.065637e-16\n",
            "std    1.000002e+00  1.000002e+00\n",
            "min   -3.532294e-01 -1.996583e+00\n",
            "25%   -3.308401e-01 -8.552120e-01\n",
            "50%   -2.652715e-01 -2.131453e-01\n",
            "75%   -4.471707e-02  9.372174e-01\n",
            "max    1.023622e+02  1.642058e+00\n"
          ]
        }
      ],
      "source": [
        "# Normalization of Amount and Time using StandardScaler\n",
        "\n",
        "from sklearn.preprocessing import StandardScaler\n",
        "\n",
        "df_processed = record_set_df.copy()\n",
        "scaler = StandardScaler()\n",
        "df_processed[['Amount', 'Time']] = scaler.fit_transform(df_processed[['Amount', 'Time']])\n",
        "print(df_processed[['Amount', 'Time']].describe())\n"
      ]
    },
    {
      "cell_type": "code",
      "execution_count": null,
      "metadata": {
        "colab": {
          "base_uri": "https://localhost:8080/"
        },
        "id": "4TuETOO_gX-_",
        "outputId": "ee0a32a0-93e3-4330-e76a-77ca9e43dce4"
      },
      "outputs": [
        {
          "output_type": "stream",
          "name": "stdout",
          "text": [
            "Train class distribution:\n",
            " Class\n",
            "0    0.998271\n",
            "1    0.001729\n",
            "Name: proportion, dtype: float64\n",
            "Test class distribution:\n",
            " Class\n",
            "0    0.99828\n",
            "1    0.00172\n",
            "Name: proportion, dtype: float64\n"
          ]
        }
      ],
      "source": [
        "# Train/test split(80/20)\n",
        "\n",
        "from sklearn.model_selection import train_test_split\n",
        "\n",
        "\n",
        "X = df_processed.drop(columns=['Class'])\n",
        "y = df_processed['Class']\n",
        "\n",
        "X_train, X_test, y_train, y_test = train_test_split(X, y, test_size=0.2, random_state=42, stratify=y)\n",
        "\n",
        "print(\"Train class distribution:\\n\", y_train.value_counts(normalize=True))\n",
        "print(\"Test class distribution:\\n\", y_test.value_counts(normalize=True))"
      ]
    },
    {
      "cell_type": "code",
      "execution_count": null,
      "metadata": {
        "colab": {
          "base_uri": "https://localhost:8080/"
        },
        "id": "w1aPgbkjhDKA",
        "outputId": "3adfdc34-2323-4f2a-e6e5-cb50182e0bf6"
      },
      "outputs": [
        {
          "output_type": "stream",
          "name": "stdout",
          "text": [
            "Class distribution after undersampling:\n",
            " Class\n",
            "0    394\n",
            "1    394\n",
            "Name: count, dtype: int64\n"
          ]
        }
      ],
      "source": [
        "from imblearn.under_sampling import RandomUnderSampler\n",
        "\n",
        "undersampler = RandomUnderSampler(random_state=42)\n",
        "X_train_under, y_train_under = undersampler.fit_resample(X_train, y_train)\n",
        "\n",
        "print(\"Class distribution after undersampling:\\n\", y_train_under.value_counts())"
      ]
    },
    {
      "cell_type": "code",
      "execution_count": null,
      "metadata": {
        "colab": {
          "base_uri": "https://localhost:8080/"
        },
        "id": "K_MeOvFRhPlA",
        "outputId": "84c7e44b-1e56-40ad-86b8-49174753c791"
      },
      "outputs": [
        {
          "output_type": "stream",
          "name": "stdout",
          "text": [
            "Balanced Random Forest trained successfully.\n",
            "Class distribution after BRF:\n",
            " Class\n",
            "0    227451\n",
            "1       394\n",
            "Name: count, dtype: int64\n"
          ]
        }
      ],
      "source": [
        "from imblearn.ensemble import BalancedRandomForestClassifier\n",
        "\n",
        "brf = BalancedRandomForestClassifier(n_estimators=100, random_state=42)\n",
        "brf.fit(X_train, y_train)\n",
        "\n",
        "print(\"Balanced Random Forest trained successfully.\")\n",
        "print(\"Class distribution after BRF:\\n\", y_train.value_counts())"
      ]
    },
    {
      "cell_type": "code",
      "execution_count": null,
      "metadata": {
        "colab": {
          "base_uri": "https://localhost:8080/"
        },
        "id": "xKgCS1zNhEnu",
        "outputId": "e9dcad14-dceb-41a5-a813-850eda24d7e7"
      },
      "outputs": [
        {
          "output_type": "stream",
          "name": "stdout",
          "text": [
            "Class distribution after SMOTE:\n",
            " Class\n",
            "0    227451\n",
            "1    227451\n",
            "Name: count, dtype: int64\n"
          ]
        }
      ],
      "source": [
        "from imblearn.over_sampling import SMOTE\n",
        "\n",
        "smote = SMOTE(random_state=42)\n",
        "X_train_smote, y_train_smote = smote.fit_resample(X_train, y_train)\n",
        "\n",
        "print(\"Class distribution after SMOTE:\\n\", y_train_smote.value_counts())"
      ]
    },
    {
      "cell_type": "code",
      "execution_count": null,
      "metadata": {
        "id": "ByL7RTeIhJnc",
        "colab": {
          "base_uri": "https://localhost:8080/"
        },
        "outputId": "41cdc379-c4f4-4fe9-db13-87a451c89610"
      },
      "outputs": [
        {
          "output_type": "stream",
          "name": "stdout",
          "text": [
            "Computed class weights: {0: np.float64(0.5008661206149896), 1: np.float64(289.14340101522845)}\n",
            "Class distribution after class weighting:\n",
            " Class\n",
            "0    227451\n",
            "1       394\n",
            "Name: count, dtype: int64\n"
          ]
        }
      ],
      "source": [
        "class_weights = {0: len(y_train) / (2 * y_train.value_counts()[0]),\n",
        "                 1: len(y_train) / (2 * y_train.value_counts()[1])}\n",
        "\n",
        "print(\"Computed class weights:\", class_weights)\n",
        "print(\"Class distribution after class weighting:\\n\", y_train.value_counts())"
      ]
    },
    {
      "cell_type": "code",
      "source": [
        "from imblearn.combine import SMOTEENN\n",
        "\n",
        "# Apply K-SMOTEENN to the existing training set\n",
        "smote_enn = SMOTEENN(random_state=42)\n",
        "X_train_kse, y_train_kse = smote_enn.fit_resample(X_train, y_train)\n",
        "\n",
        "print(\"Class distribution after K-SMOTEENN:\\n\", y_train_kse.value_counts())"
      ],
      "metadata": {
        "id": "IHBbcsk2IOuG",
        "colab": {
          "base_uri": "https://localhost:8080/"
        },
        "outputId": "c868df1f-6ebe-441d-85ad-f2ba5befbe2c"
      },
      "execution_count": null,
      "outputs": [
        {
          "output_type": "stream",
          "name": "stdout",
          "text": [
            "Class distribution after K-SMOTEENN:\n",
            " Class\n",
            "1    227451\n",
            "0    227054\n",
            "Name: count, dtype: int64\n"
          ]
        }
      ]
    },
    {
      "cell_type": "code",
      "source": [
        "# Model training and evaluation\n",
        "\n",
        "import pandas as pd\n",
        "import numpy as np\n",
        "from sklearn.model_selection import StratifiedKFold\n",
        "from sklearn.linear_model import LogisticRegression\n",
        "from sklearn.ensemble import RandomForestClassifier\n",
        "from xgboost import XGBClassifier\n",
        "from sklearn.metrics import precision_score, recall_score, f1_score, average_precision_score\n",
        "from imblearn.metrics import geometric_mean_score"
      ],
      "metadata": {
        "id": "k8mGxhaBHpx_"
      },
      "execution_count": null,
      "outputs": []
    },
    {
      "cell_type": "code",
      "source": [
        "# Models\n",
        "\n",
        "base_models = {\n",
        "    'Logistic Regression': LogisticRegression(solver='liblinear', random_state=42),\n",
        "    'Random Forest': RandomForestClassifier(n_estimators=100, random_state=42, n_jobs=-1),\n",
        "    'XGBoost': XGBClassifier(use_label_encoder=False, eval_metric='logloss', random_state=42, n_jobs=-1)\n",
        "}"
      ],
      "metadata": {
        "id": "vDV2CMBHIJr5"
      },
      "execution_count": null,
      "outputs": []
    },
    {
      "cell_type": "code",
      "source": [
        "# Datasets obtained from 5 methods\n",
        "\n",
        "datasets = {\n",
        "    'Original': (X_train, y_train),\n",
        "    'Random Undersampling': (X_train_under, y_train_under),\n",
        "    'SMOTE': (X_train_smote, y_train_smote),\n",
        "    'Class Weighting': (X_train, y_train),\n",
        "    'Balanced RF': (X_train, y_train),\n",
        "    'K-SMOTEENN': (X_train_kse, y_train_kse)\n",
        "}"
      ],
      "metadata": {
        "id": "J1n7LBGzIVzu"
      },
      "execution_count": null,
      "outputs": []
    },
    {
      "cell_type": "code",
      "source": [
        "from sklearn.model_selection import StratifiedKFold\n",
        "from sklearn.base import clone\n",
        "from tqdm.notebook import tqdm\n",
        "\n",
        "results = []\n",
        "cv = StratifiedKFold(n_splits=5, shuffle=True, random_state=42)\n",
        "\n",
        "# Outer loop: balancing methods\n",
        "for method_name, (X_bal, y_bal) in tqdm(datasets.items(), desc=\"Balancing Methods\"):\n",
        "    print(f\"\\n--- Method: {method_name} ---\")\n",
        "\n",
        "    # Compute weights if class weighting\n",
        "    if method_name == 'Class Weighting':\n",
        "        class_weights = {\n",
        "            0: len(y_bal) / (2 * y_bal.value_counts()[0]),\n",
        "            1: len(y_bal) / (2 * y_bal.value_counts()[1])\n",
        "        }\n",
        "        scale_pos_weight = y_bal.value_counts()[0] / y_bal.value_counts()[1]\n",
        "\n",
        "    # Loop through models\n",
        "    for model_name, base_model in tqdm(base_models.items(), desc=f\"{method_name} Models\", leave=False):\n",
        "        print(f\"\\nModel: {model_name}\")\n",
        "\n",
        "        model = clone(base_model)\n",
        "\n",
        "        # Apply class weights if needed\n",
        "        if method_name == 'Class Weighting':\n",
        "            if model_name in ['Logistic Regression', 'Random Forest']:\n",
        "                model.set_params(class_weight=class_weights)\n",
        "            elif model_name == 'XGBoost':\n",
        "                model.set_params(scale_pos_weight=scale_pos_weight)\n",
        "\n",
        "        # Cross-validation\n",
        "        fold_idx = 1\n",
        "        for train_idx, val_idx in cv.split(X_bal, y_bal):\n",
        "            X_tr, X_val = X_bal.iloc[train_idx], X_bal.iloc[val_idx]\n",
        "            y_tr, y_val = y_bal.iloc[train_idx], y_bal.iloc[val_idx]\n",
        "\n",
        "            model.fit(X_tr, y_tr)\n",
        "\n",
        "            y_pred = model.predict(X_val)\n",
        "            y_proba = model.predict_proba(X_val)[:, 1] if hasattr(model, \"predict_proba\") else y_pred\n",
        "\n",
        "            precision = precision_score(y_val, y_pred, zero_division=0)\n",
        "            recall = recall_score(y_val, y_pred, zero_division=0)\n",
        "            f1 = f1_score(y_val, y_pred, zero_division=0)\n",
        "            pr_auc = average_precision_score(y_val, y_proba)\n",
        "            gmean = geometric_mean_score(y_val, y_pred)\n",
        "\n",
        "            results.append({\n",
        "                'Method': method_name,\n",
        "                'Model': model_name,\n",
        "                'Fold': fold_idx,\n",
        "                'Precision': precision,\n",
        "                'Recall': recall,\n",
        "                'F1': f1,\n",
        "                'PR-AUC': pr_auc,\n",
        "                'G-Mean': gmean\n",
        "            })\n",
        "\n",
        "            print(f\"Fold {fold_idx} - Precision: {precision:.3f}, Recall: {recall:.3f}, F1: {f1:.3f}, PR-AUC: {pr_auc:.3f}, G-Mean: {gmean:.3f}\")\n",
        "            fold_idx += 1"
      ],
      "metadata": {
        "colab": {
          "base_uri": "https://localhost:8080/",
          "height": 1000,
          "referenced_widgets": [
            "169f6416a99141dcb184e8f3bfd05914",
            "261dca754218457c8dccb46e38a23c8c",
            "59452d848138406ea37e75df79e558f9",
            "0f61235c8d854399af38ca97d7e3a0a6",
            "8f202c81c5804111a34f898254513d55",
            "41e180f6569f45b9a0432bfe26c2fb9d",
            "9f0b830fb65743249abdd234a9a0f3f5",
            "3b5827f0654e4621ba2c4159c15f99d2",
            "45ed24bdb12c47cf8a5da5e9873644eb",
            "f2b16ca053fe4ecba3826f7e6db2103e",
            "aed01e026f41461484d9dcf046497014",
            "54f0d4c265524ef0bf4eff6813eb0d85",
            "d8e9108119ae4d39875d3558d849e0fd",
            "b3418205fd0442018f31b47cc02e9323",
            "c7a685a722144f0faae6c8d7d47009ac",
            "39786bb5231a4ee8ab9902ac4b4fb710",
            "a07f197f19104fb29b21fa2ba20ff440",
            "bbcaa0ddae3d45aaba1d7bcaecb78edc",
            "33522885fc724ba383b74f9fbb44bd1b",
            "4c9dc0ec38da43b29d71f8045fba5330",
            "e9ab887e638a4e2c978247f03f44a70d",
            "99b5d3148a474806b64e2295c0f5124f",
            "4c8816c516164bc4aa51f692675ed93d",
            "2134ede42b254a5faab75d670a8bbdbc",
            "6ce1644582014a279f76c418506d093e",
            "a2c4a995d5d04ebda10b5f78d82b32c0",
            "db57d0deb668463abaca24ae0e7df2d1",
            "8a40cbd6c9754ceabd68f144eb53b707",
            "66b9e9845d394977ad138bc6b17c3174",
            "b149b78b2aa3464293e74e5e5155c490",
            "8838dc5ec3624624a96702f9e1ccd41a",
            "34d450d619ea431b9bcf9a9d3deaff4c",
            "7cc1d7b2235544b7beb6f6c02102f36f",
            "3e4aa3be9bfc4074a7b14df644dfa9ef",
            "479347b1236f4fb39960e1fd1190f1a5",
            "bc8b968753204786b1c6fc41258eb60f",
            "f008747fd1194da7942500ffdbeb7e37",
            "951af6810031463eaddc7d5b07fa54be",
            "c5d42158b9194d5ca2a7010fdee96816",
            "a1c16d1d732346ecab3ab007630e780b",
            "65ec2ad4bf254910a8d5b0e135e55dd0",
            "deb748463e9b4741a1c544b9e544d080",
            "f59958597fe943ac9f27e99f239f31b0",
            "38838d87f5d64d4cb318fa32e2908084",
            "e71b20f481054a5f8d2999155e8101c9",
            "0dfcf708056341d5b85d7ab1b230926d",
            "f406a21370c04bfebec08aa32a5b71f8",
            "5354c3eb100f4bd19c5610277a894ab0",
            "57e4128b99e34cf88c9b08f61c6082fd",
            "2b7ef3e7b8f244e58878999ac617a9c4",
            "f990fcf2a5d34b61adb6a89e6b68e06d",
            "bca718e8e3934373991853984f947f07",
            "4c8dc24db5f2490d919e6568f769ff4d",
            "ceced5555ee14b60bc7d10cd99271256",
            "15cdabaa60fb4f4ab7e5bb5cb614598e",
            "b0b5bbd886704988a6cf669f9f716848",
            "43a6f36447d64153aad2ad3e206b635a",
            "fdf08c12ec21465f9838e972acd7b08d",
            "f00e4df8ad0a4dd68c907c0772441061",
            "50f1787f11634e96ba0c7e42162997f3",
            "cd6b99cf63b04f7fb8c81bf28724f304",
            "3eb3d8b1fd3540ac8de5ed441d26c346",
            "31dd24a509494d1c8cf6a0f49a15093e",
            "ae0c398d29044371b1807c3b6c36864e",
            "9a7cd83e596a420cb353cb86da1571d7",
            "547f8a71c8c747d1a9e46044d1d8c7de",
            "9b34ad20107845dca03a1b2eddedaebc",
            "09514ccf1c5543419a0df8280b41c17b",
            "1020d55270bb432188424b6676efc52a",
            "fa4ef4ca0ef0439bb6bcb06de96a5058",
            "6cf5a9d853bb4c06995bc2b1794ffdab",
            "176558356f3a425faef9543ae5f0357e",
            "07fda6a30eec48daa1e8da35d439245a",
            "9ff69ea044934cd4b7fa23f7b9791105",
            "0224a22672bd48178c7b8f7c57fa156b",
            "13f0d439d08042cca16c3636e3c2bd93",
            "a7cb65a7ef764026addba538cf83a74c"
          ]
        },
        "id": "Ou-IiBovIf08",
        "outputId": "87050bc6-76f1-4b43-f92a-6e4dc50c69f4"
      },
      "execution_count": null,
      "outputs": [
        {
          "output_type": "display_data",
          "data": {
            "text/plain": [
              "Balancing Methods:   0%|          | 0/6 [00:00<?, ?it/s]"
            ],
            "application/vnd.jupyter.widget-view+json": {
              "version_major": 2,
              "version_minor": 0,
              "model_id": "169f6416a99141dcb184e8f3bfd05914"
            }
          },
          "metadata": {}
        },
        {
          "output_type": "stream",
          "name": "stdout",
          "text": [
            "\n",
            "--- Method: Original ---\n"
          ]
        },
        {
          "output_type": "display_data",
          "data": {
            "text/plain": [
              "Original Models:   0%|          | 0/3 [00:00<?, ?it/s]"
            ],
            "application/vnd.jupyter.widget-view+json": {
              "version_major": 2,
              "version_minor": 0,
              "model_id": "54f0d4c265524ef0bf4eff6813eb0d85"
            }
          },
          "metadata": {}
        },
        {
          "output_type": "stream",
          "name": "stdout",
          "text": [
            "\n",
            "Model: Logistic Regression\n",
            "Fold 1 - Precision: 0.906, Recall: 0.615, F1: 0.733, PR-AUC: 0.819, G-Mean: 0.784\n",
            "Fold 2 - Precision: 0.923, Recall: 0.608, F1: 0.733, PR-AUC: 0.756, G-Mean: 0.779\n",
            "Fold 3 - Precision: 0.831, Recall: 0.684, F1: 0.750, PR-AUC: 0.704, G-Mean: 0.827\n",
            "Fold 4 - Precision: 0.847, Recall: 0.633, F1: 0.725, PR-AUC: 0.800, G-Mean: 0.795\n",
            "Fold 5 - Precision: 0.877, Recall: 0.633, F1: 0.735, PR-AUC: 0.737, G-Mean: 0.795\n",
            "\n",
            "Model: Random Forest\n",
            "Fold 1 - Precision: 0.952, Recall: 0.756, F1: 0.843, PR-AUC: 0.862, G-Mean: 0.870\n",
            "Fold 2 - Precision: 1.000, Recall: 0.759, F1: 0.863, PR-AUC: 0.807, G-Mean: 0.871\n",
            "Fold 3 - Precision: 0.938, Recall: 0.759, F1: 0.839, PR-AUC: 0.825, G-Mean: 0.871\n",
            "Fold 4 - Precision: 0.890, Recall: 0.823, F1: 0.855, PR-AUC: 0.890, G-Mean: 0.907\n",
            "Fold 5 - Precision: 0.953, Recall: 0.772, F1: 0.853, PR-AUC: 0.818, G-Mean: 0.879\n",
            "\n",
            "Model: XGBoost\n"
          ]
        },
        {
          "output_type": "stream",
          "name": "stderr",
          "text": [
            "/usr/local/lib/python3.11/dist-packages/xgboost/core.py:158: UserWarning: [14:13:34] WARNING: /workspace/src/learner.cc:740: \n",
            "Parameters: { \"use_label_encoder\" } are not used.\n",
            "\n",
            "  warnings.warn(smsg, UserWarning)\n"
          ]
        },
        {
          "output_type": "stream",
          "name": "stdout",
          "text": [
            "Fold 1 - Precision: 0.953, Recall: 0.782, F1: 0.859, PR-AUC: 0.878, G-Mean: 0.884\n"
          ]
        },
        {
          "output_type": "stream",
          "name": "stderr",
          "text": [
            "/usr/local/lib/python3.11/dist-packages/xgboost/core.py:158: UserWarning: [14:13:38] WARNING: /workspace/src/learner.cc:740: \n",
            "Parameters: { \"use_label_encoder\" } are not used.\n",
            "\n",
            "  warnings.warn(smsg, UserWarning)\n"
          ]
        },
        {
          "output_type": "stream",
          "name": "stdout",
          "text": [
            "Fold 2 - Precision: 1.000, Recall: 0.759, F1: 0.863, PR-AUC: 0.838, G-Mean: 0.871\n"
          ]
        },
        {
          "output_type": "stream",
          "name": "stderr",
          "text": [
            "/usr/local/lib/python3.11/dist-packages/xgboost/core.py:158: UserWarning: [14:13:43] WARNING: /workspace/src/learner.cc:740: \n",
            "Parameters: { \"use_label_encoder\" } are not used.\n",
            "\n",
            "  warnings.warn(smsg, UserWarning)\n"
          ]
        },
        {
          "output_type": "stream",
          "name": "stdout",
          "text": [
            "Fold 3 - Precision: 0.924, Recall: 0.772, F1: 0.841, PR-AUC: 0.847, G-Mean: 0.879\n"
          ]
        },
        {
          "output_type": "stream",
          "name": "stderr",
          "text": [
            "/usr/local/lib/python3.11/dist-packages/xgboost/core.py:158: UserWarning: [14:13:47] WARNING: /workspace/src/learner.cc:740: \n",
            "Parameters: { \"use_label_encoder\" } are not used.\n",
            "\n",
            "  warnings.warn(smsg, UserWarning)\n"
          ]
        },
        {
          "output_type": "stream",
          "name": "stdout",
          "text": [
            "Fold 4 - Precision: 0.882, Recall: 0.848, F1: 0.865, PR-AUC: 0.860, G-Mean: 0.921\n"
          ]
        },
        {
          "output_type": "stream",
          "name": "stderr",
          "text": [
            "/usr/local/lib/python3.11/dist-packages/xgboost/core.py:158: UserWarning: [14:13:51] WARNING: /workspace/src/learner.cc:740: \n",
            "Parameters: { \"use_label_encoder\" } are not used.\n",
            "\n",
            "  warnings.warn(smsg, UserWarning)\n"
          ]
        },
        {
          "output_type": "stream",
          "name": "stdout",
          "text": [
            "Fold 5 - Precision: 0.969, Recall: 0.797, F1: 0.875, PR-AUC: 0.845, G-Mean: 0.893\n",
            "\n",
            "--- Method: Random Undersampling ---\n"
          ]
        },
        {
          "output_type": "display_data",
          "data": {
            "text/plain": [
              "Random Undersampling Models:   0%|          | 0/3 [00:00<?, ?it/s]"
            ],
            "application/vnd.jupyter.widget-view+json": {
              "version_major": 2,
              "version_minor": 0,
              "model_id": "4c8816c516164bc4aa51f692675ed93d"
            }
          },
          "metadata": {}
        },
        {
          "output_type": "stream",
          "name": "stdout",
          "text": [
            "\n",
            "Model: Logistic Regression\n",
            "Fold 1 - Precision: 0.934, Recall: 0.899, F1: 0.916, PR-AUC: 0.977, G-Mean: 0.918\n",
            "Fold 2 - Precision: 0.972, Recall: 0.886, F1: 0.927, PR-AUC: 0.980, G-Mean: 0.929\n",
            "Fold 3 - Precision: 0.962, Recall: 0.962, F1: 0.962, PR-AUC: 0.990, G-Mean: 0.962\n",
            "Fold 4 - Precision: 1.000, Recall: 0.936, F1: 0.967, PR-AUC: 0.989, G-Mean: 0.967\n",
            "Fold 5 - Precision: 0.973, Recall: 0.899, F1: 0.934, PR-AUC: 0.984, G-Mean: 0.936\n",
            "\n",
            "Model: Random Forest\n",
            "Fold 1 - Precision: 0.959, Recall: 0.886, F1: 0.921, PR-AUC: 0.982, G-Mean: 0.923\n",
            "Fold 2 - Precision: 0.986, Recall: 0.873, F1: 0.926, PR-AUC: 0.983, G-Mean: 0.929\n",
            "Fold 3 - Precision: 0.987, Recall: 0.949, F1: 0.968, PR-AUC: 0.992, G-Mean: 0.968\n",
            "Fold 4 - Precision: 1.000, Recall: 0.923, F1: 0.960, PR-AUC: 0.995, G-Mean: 0.961\n",
            "Fold 5 - Precision: 0.972, Recall: 0.886, F1: 0.927, PR-AUC: 0.969, G-Mean: 0.929\n",
            "\n",
            "Model: XGBoost\n",
            "Fold 1 - Precision: 0.938, Recall: 0.949, F1: 0.943, PR-AUC: 0.985, G-Mean: 0.943\n"
          ]
        },
        {
          "output_type": "stream",
          "name": "stderr",
          "text": [
            "/usr/local/lib/python3.11/dist-packages/xgboost/core.py:158: UserWarning: [14:13:57] WARNING: /workspace/src/learner.cc:740: \n",
            "Parameters: { \"use_label_encoder\" } are not used.\n",
            "\n",
            "  warnings.warn(smsg, UserWarning)\n",
            "/usr/local/lib/python3.11/dist-packages/xgboost/core.py:158: UserWarning: [14:13:58] WARNING: /workspace/src/learner.cc:740: \n",
            "Parameters: { \"use_label_encoder\" } are not used.\n",
            "\n",
            "  warnings.warn(smsg, UserWarning)\n"
          ]
        },
        {
          "output_type": "stream",
          "name": "stdout",
          "text": [
            "Fold 2 - Precision: 1.000, Recall: 0.899, F1: 0.947, PR-AUC: 0.981, G-Mean: 0.948\n",
            "Fold 3 - Precision: 0.950, Recall: 0.962, F1: 0.956, PR-AUC: 0.989, G-Mean: 0.956\n"
          ]
        },
        {
          "output_type": "stream",
          "name": "stderr",
          "text": [
            "/usr/local/lib/python3.11/dist-packages/xgboost/core.py:158: UserWarning: [14:13:58] WARNING: /workspace/src/learner.cc:740: \n",
            "Parameters: { \"use_label_encoder\" } are not used.\n",
            "\n",
            "  warnings.warn(smsg, UserWarning)\n",
            "/usr/local/lib/python3.11/dist-packages/xgboost/core.py:158: UserWarning: [14:13:58] WARNING: /workspace/src/learner.cc:740: \n",
            "Parameters: { \"use_label_encoder\" } are not used.\n",
            "\n",
            "  warnings.warn(smsg, UserWarning)\n"
          ]
        },
        {
          "output_type": "stream",
          "name": "stdout",
          "text": [
            "Fold 4 - Precision: 1.000, Recall: 0.936, F1: 0.967, PR-AUC: 0.995, G-Mean: 0.967\n",
            "Fold 5 - Precision: 0.986, Recall: 0.899, F1: 0.940, PR-AUC: 0.983, G-Mean: 0.942\n",
            "\n",
            "--- Method: SMOTE ---\n"
          ]
        },
        {
          "output_type": "stream",
          "name": "stderr",
          "text": [
            "/usr/local/lib/python3.11/dist-packages/xgboost/core.py:158: UserWarning: [14:13:58] WARNING: /workspace/src/learner.cc:740: \n",
            "Parameters: { \"use_label_encoder\" } are not used.\n",
            "\n",
            "  warnings.warn(smsg, UserWarning)\n"
          ]
        },
        {
          "output_type": "display_data",
          "data": {
            "text/plain": [
              "SMOTE Models:   0%|          | 0/3 [00:00<?, ?it/s]"
            ],
            "application/vnd.jupyter.widget-view+json": {
              "version_major": 2,
              "version_minor": 0,
              "model_id": "3e4aa3be9bfc4074a7b14df644dfa9ef"
            }
          },
          "metadata": {}
        },
        {
          "output_type": "stream",
          "name": "stdout",
          "text": [
            "\n",
            "Model: Logistic Regression\n",
            "Fold 1 - Precision: 0.973, Recall: 0.931, F1: 0.952, PR-AUC: 0.993, G-Mean: 0.952\n",
            "Fold 2 - Precision: 0.973, Recall: 0.930, F1: 0.951, PR-AUC: 0.992, G-Mean: 0.952\n",
            "Fold 3 - Precision: 0.973, Recall: 0.931, F1: 0.951, PR-AUC: 0.992, G-Mean: 0.952\n",
            "Fold 4 - Precision: 0.972, Recall: 0.931, F1: 0.951, PR-AUC: 0.992, G-Mean: 0.952\n",
            "Fold 5 - Precision: 0.974, Recall: 0.930, F1: 0.951, PR-AUC: 0.992, G-Mean: 0.952\n",
            "\n",
            "Model: Random Forest\n",
            "Fold 1 - Precision: 1.000, Recall: 1.000, F1: 1.000, PR-AUC: 1.000, G-Mean: 1.000\n",
            "Fold 2 - Precision: 1.000, Recall: 1.000, F1: 1.000, PR-AUC: 1.000, G-Mean: 1.000\n",
            "Fold 3 - Precision: 1.000, Recall: 1.000, F1: 1.000, PR-AUC: 1.000, G-Mean: 1.000\n",
            "Fold 4 - Precision: 1.000, Recall: 1.000, F1: 1.000, PR-AUC: 1.000, G-Mean: 1.000\n",
            "Fold 5 - Precision: 1.000, Recall: 1.000, F1: 1.000, PR-AUC: 1.000, G-Mean: 1.000\n",
            "\n",
            "Model: XGBoost\n"
          ]
        },
        {
          "output_type": "stream",
          "name": "stderr",
          "text": [
            "/usr/local/lib/python3.11/dist-packages/xgboost/core.py:158: UserWarning: [14:42:25] WARNING: /workspace/src/learner.cc:740: \n",
            "Parameters: { \"use_label_encoder\" } are not used.\n",
            "\n",
            "  warnings.warn(smsg, UserWarning)\n"
          ]
        },
        {
          "output_type": "stream",
          "name": "stdout",
          "text": [
            "Fold 1 - Precision: 0.999, Recall: 1.000, F1: 1.000, PR-AUC: 1.000, G-Mean: 1.000\n"
          ]
        },
        {
          "output_type": "stream",
          "name": "stderr",
          "text": [
            "/usr/local/lib/python3.11/dist-packages/xgboost/core.py:158: UserWarning: [14:42:34] WARNING: /workspace/src/learner.cc:740: \n",
            "Parameters: { \"use_label_encoder\" } are not used.\n",
            "\n",
            "  warnings.warn(smsg, UserWarning)\n"
          ]
        },
        {
          "output_type": "stream",
          "name": "stdout",
          "text": [
            "Fold 2 - Precision: 1.000, Recall: 1.000, F1: 1.000, PR-AUC: 1.000, G-Mean: 1.000\n"
          ]
        },
        {
          "output_type": "stream",
          "name": "stderr",
          "text": [
            "/usr/local/lib/python3.11/dist-packages/xgboost/core.py:158: UserWarning: [14:42:43] WARNING: /workspace/src/learner.cc:740: \n",
            "Parameters: { \"use_label_encoder\" } are not used.\n",
            "\n",
            "  warnings.warn(smsg, UserWarning)\n"
          ]
        },
        {
          "output_type": "stream",
          "name": "stdout",
          "text": [
            "Fold 3 - Precision: 0.999, Recall: 1.000, F1: 1.000, PR-AUC: 1.000, G-Mean: 1.000\n"
          ]
        },
        {
          "output_type": "stream",
          "name": "stderr",
          "text": [
            "/usr/local/lib/python3.11/dist-packages/xgboost/core.py:158: UserWarning: [14:42:53] WARNING: /workspace/src/learner.cc:740: \n",
            "Parameters: { \"use_label_encoder\" } are not used.\n",
            "\n",
            "  warnings.warn(smsg, UserWarning)\n"
          ]
        },
        {
          "output_type": "stream",
          "name": "stdout",
          "text": [
            "Fold 4 - Precision: 0.999, Recall: 1.000, F1: 1.000, PR-AUC: 1.000, G-Mean: 1.000\n"
          ]
        },
        {
          "output_type": "stream",
          "name": "stderr",
          "text": [
            "/usr/local/lib/python3.11/dist-packages/xgboost/core.py:158: UserWarning: [14:43:01] WARNING: /workspace/src/learner.cc:740: \n",
            "Parameters: { \"use_label_encoder\" } are not used.\n",
            "\n",
            "  warnings.warn(smsg, UserWarning)\n"
          ]
        },
        {
          "output_type": "stream",
          "name": "stdout",
          "text": [
            "Fold 5 - Precision: 1.000, Recall: 1.000, F1: 1.000, PR-AUC: 1.000, G-Mean: 1.000\n",
            "\n",
            "--- Method: Class Weighting ---\n"
          ]
        },
        {
          "output_type": "display_data",
          "data": {
            "text/plain": [
              "Class Weighting Models:   0%|          | 0/3 [00:00<?, ?it/s]"
            ],
            "application/vnd.jupyter.widget-view+json": {
              "version_major": 2,
              "version_minor": 0,
              "model_id": "e71b20f481054a5f8d2999155e8101c9"
            }
          },
          "metadata": {}
        },
        {
          "output_type": "stream",
          "name": "stdout",
          "text": [
            "\n",
            "Model: Logistic Regression\n",
            "Fold 1 - Precision: 0.061, Recall: 0.936, F1: 0.114, PR-AUC: 0.796, G-Mean: 0.955\n",
            "Fold 2 - Precision: 0.066, Recall: 0.911, F1: 0.124, PR-AUC: 0.740, G-Mean: 0.944\n",
            "Fold 3 - Precision: 0.067, Recall: 0.873, F1: 0.125, PR-AUC: 0.668, G-Mean: 0.925\n",
            "Fold 4 - Precision: 0.057, Recall: 0.937, F1: 0.108, PR-AUC: 0.810, G-Mean: 0.955\n",
            "Fold 5 - Precision: 0.063, Recall: 0.911, F1: 0.118, PR-AUC: 0.712, G-Mean: 0.943\n",
            "\n",
            "Model: Random Forest\n",
            "Fold 1 - Precision: 0.934, Recall: 0.731, F1: 0.820, PR-AUC: 0.843, G-Mean: 0.855\n",
            "Fold 2 - Precision: 0.982, Recall: 0.684, F1: 0.806, PR-AUC: 0.811, G-Mean: 0.827\n",
            "Fold 3 - Precision: 0.951, Recall: 0.734, F1: 0.829, PR-AUC: 0.827, G-Mean: 0.857\n",
            "Fold 4 - Precision: 0.925, Recall: 0.785, F1: 0.849, PR-AUC: 0.877, G-Mean: 0.886\n",
            "Fold 5 - Precision: 0.952, Recall: 0.747, F1: 0.837, PR-AUC: 0.834, G-Mean: 0.864\n",
            "\n",
            "Model: XGBoost\n"
          ]
        },
        {
          "output_type": "stream",
          "name": "stderr",
          "text": [
            "/usr/local/lib/python3.11/dist-packages/xgboost/core.py:158: UserWarning: [14:52:05] WARNING: /workspace/src/learner.cc:740: \n",
            "Parameters: { \"use_label_encoder\" } are not used.\n",
            "\n",
            "  warnings.warn(smsg, UserWarning)\n"
          ]
        },
        {
          "output_type": "stream",
          "name": "stdout",
          "text": [
            "Fold 1 - Precision: 0.903, Recall: 0.833, F1: 0.867, PR-AUC: 0.861, G-Mean: 0.913\n"
          ]
        },
        {
          "output_type": "stream",
          "name": "stderr",
          "text": [
            "/usr/local/lib/python3.11/dist-packages/xgboost/core.py:158: UserWarning: [14:52:10] WARNING: /workspace/src/learner.cc:740: \n",
            "Parameters: { \"use_label_encoder\" } are not used.\n",
            "\n",
            "  warnings.warn(smsg, UserWarning)\n"
          ]
        },
        {
          "output_type": "stream",
          "name": "stdout",
          "text": [
            "Fold 2 - Precision: 0.968, Recall: 0.772, F1: 0.859, PR-AUC: 0.824, G-Mean: 0.879\n"
          ]
        },
        {
          "output_type": "stream",
          "name": "stderr",
          "text": [
            "/usr/local/lib/python3.11/dist-packages/xgboost/core.py:158: UserWarning: [14:52:15] WARNING: /workspace/src/learner.cc:740: \n",
            "Parameters: { \"use_label_encoder\" } are not used.\n",
            "\n",
            "  warnings.warn(smsg, UserWarning)\n"
          ]
        },
        {
          "output_type": "stream",
          "name": "stdout",
          "text": [
            "Fold 3 - Precision: 0.926, Recall: 0.797, F1: 0.857, PR-AUC: 0.841, G-Mean: 0.893\n"
          ]
        },
        {
          "output_type": "stream",
          "name": "stderr",
          "text": [
            "/usr/local/lib/python3.11/dist-packages/xgboost/core.py:158: UserWarning: [14:52:19] WARNING: /workspace/src/learner.cc:740: \n",
            "Parameters: { \"use_label_encoder\" } are not used.\n",
            "\n",
            "  warnings.warn(smsg, UserWarning)\n"
          ]
        },
        {
          "output_type": "stream",
          "name": "stdout",
          "text": [
            "Fold 4 - Precision: 0.821, Recall: 0.873, F1: 0.847, PR-AUC: 0.883, G-Mean: 0.934\n"
          ]
        },
        {
          "output_type": "stream",
          "name": "stderr",
          "text": [
            "/usr/local/lib/python3.11/dist-packages/xgboost/core.py:158: UserWarning: [14:52:25] WARNING: /workspace/src/learner.cc:740: \n",
            "Parameters: { \"use_label_encoder\" } are not used.\n",
            "\n",
            "  warnings.warn(smsg, UserWarning)\n"
          ]
        },
        {
          "output_type": "stream",
          "name": "stdout",
          "text": [
            "Fold 5 - Precision: 0.928, Recall: 0.810, F1: 0.865, PR-AUC: 0.866, G-Mean: 0.900\n",
            "\n",
            "--- Method: Balanced RF ---\n"
          ]
        },
        {
          "output_type": "display_data",
          "data": {
            "text/plain": [
              "Balanced RF Models:   0%|          | 0/3 [00:00<?, ?it/s]"
            ],
            "application/vnd.jupyter.widget-view+json": {
              "version_major": 2,
              "version_minor": 0,
              "model_id": "b0b5bbd886704988a6cf669f9f716848"
            }
          },
          "metadata": {}
        },
        {
          "output_type": "stream",
          "name": "stdout",
          "text": [
            "\n",
            "Model: Logistic Regression\n",
            "Fold 1 - Precision: 0.906, Recall: 0.615, F1: 0.733, PR-AUC: 0.819, G-Mean: 0.784\n",
            "Fold 2 - Precision: 0.923, Recall: 0.608, F1: 0.733, PR-AUC: 0.756, G-Mean: 0.779\n",
            "Fold 3 - Precision: 0.831, Recall: 0.684, F1: 0.750, PR-AUC: 0.704, G-Mean: 0.827\n",
            "Fold 4 - Precision: 0.847, Recall: 0.633, F1: 0.725, PR-AUC: 0.800, G-Mean: 0.795\n",
            "Fold 5 - Precision: 0.877, Recall: 0.633, F1: 0.735, PR-AUC: 0.737, G-Mean: 0.795\n",
            "\n",
            "Model: Random Forest\n",
            "Fold 1 - Precision: 0.952, Recall: 0.756, F1: 0.843, PR-AUC: 0.862, G-Mean: 0.870\n",
            "Fold 2 - Precision: 1.000, Recall: 0.759, F1: 0.863, PR-AUC: 0.807, G-Mean: 0.871\n",
            "Fold 3 - Precision: 0.938, Recall: 0.759, F1: 0.839, PR-AUC: 0.825, G-Mean: 0.871\n",
            "Fold 4 - Precision: 0.890, Recall: 0.823, F1: 0.855, PR-AUC: 0.890, G-Mean: 0.907\n",
            "Fold 5 - Precision: 0.953, Recall: 0.772, F1: 0.853, PR-AUC: 0.818, G-Mean: 0.879\n",
            "\n",
            "Model: XGBoost\n"
          ]
        },
        {
          "output_type": "stream",
          "name": "stderr",
          "text": [
            "/usr/local/lib/python3.11/dist-packages/xgboost/core.py:158: UserWarning: [15:08:36] WARNING: /workspace/src/learner.cc:740: \n",
            "Parameters: { \"use_label_encoder\" } are not used.\n",
            "\n",
            "  warnings.warn(smsg, UserWarning)\n"
          ]
        },
        {
          "output_type": "stream",
          "name": "stdout",
          "text": [
            "Fold 1 - Precision: 0.953, Recall: 0.782, F1: 0.859, PR-AUC: 0.878, G-Mean: 0.884\n"
          ]
        },
        {
          "output_type": "stream",
          "name": "stderr",
          "text": [
            "/usr/local/lib/python3.11/dist-packages/xgboost/core.py:158: UserWarning: [15:08:40] WARNING: /workspace/src/learner.cc:740: \n",
            "Parameters: { \"use_label_encoder\" } are not used.\n",
            "\n",
            "  warnings.warn(smsg, UserWarning)\n"
          ]
        },
        {
          "output_type": "stream",
          "name": "stdout",
          "text": [
            "Fold 2 - Precision: 1.000, Recall: 0.759, F1: 0.863, PR-AUC: 0.838, G-Mean: 0.871\n"
          ]
        },
        {
          "output_type": "stream",
          "name": "stderr",
          "text": [
            "/usr/local/lib/python3.11/dist-packages/xgboost/core.py:158: UserWarning: [15:08:44] WARNING: /workspace/src/learner.cc:740: \n",
            "Parameters: { \"use_label_encoder\" } are not used.\n",
            "\n",
            "  warnings.warn(smsg, UserWarning)\n"
          ]
        },
        {
          "output_type": "stream",
          "name": "stdout",
          "text": [
            "Fold 3 - Precision: 0.924, Recall: 0.772, F1: 0.841, PR-AUC: 0.847, G-Mean: 0.879\n"
          ]
        },
        {
          "output_type": "stream",
          "name": "stderr",
          "text": [
            "/usr/local/lib/python3.11/dist-packages/xgboost/core.py:158: UserWarning: [15:08:48] WARNING: /workspace/src/learner.cc:740: \n",
            "Parameters: { \"use_label_encoder\" } are not used.\n",
            "\n",
            "  warnings.warn(smsg, UserWarning)\n"
          ]
        },
        {
          "output_type": "stream",
          "name": "stdout",
          "text": [
            "Fold 4 - Precision: 0.882, Recall: 0.848, F1: 0.865, PR-AUC: 0.860, G-Mean: 0.921\n"
          ]
        },
        {
          "output_type": "stream",
          "name": "stderr",
          "text": [
            "/usr/local/lib/python3.11/dist-packages/xgboost/core.py:158: UserWarning: [15:08:52] WARNING: /workspace/src/learner.cc:740: \n",
            "Parameters: { \"use_label_encoder\" } are not used.\n",
            "\n",
            "  warnings.warn(smsg, UserWarning)\n"
          ]
        },
        {
          "output_type": "stream",
          "name": "stdout",
          "text": [
            "Fold 5 - Precision: 0.969, Recall: 0.797, F1: 0.875, PR-AUC: 0.845, G-Mean: 0.893\n",
            "\n",
            "--- Method: K-SMOTEENN ---\n"
          ]
        },
        {
          "output_type": "display_data",
          "data": {
            "text/plain": [
              "K-SMOTEENN Models:   0%|          | 0/3 [00:00<?, ?it/s]"
            ],
            "application/vnd.jupyter.widget-view+json": {
              "version_major": 2,
              "version_minor": 0,
              "model_id": "9b34ad20107845dca03a1b2eddedaebc"
            }
          },
          "metadata": {}
        },
        {
          "output_type": "stream",
          "name": "stdout",
          "text": [
            "\n",
            "Model: Logistic Regression\n",
            "Fold 1 - Precision: 0.972, Recall: 0.935, F1: 0.953, PR-AUC: 0.993, G-Mean: 0.954\n",
            "Fold 2 - Precision: 0.974, Recall: 0.933, F1: 0.953, PR-AUC: 0.993, G-Mean: 0.954\n",
            "Fold 3 - Precision: 0.974, Recall: 0.932, F1: 0.952, PR-AUC: 0.993, G-Mean: 0.953\n",
            "Fold 4 - Precision: 0.973, Recall: 0.932, F1: 0.952, PR-AUC: 0.992, G-Mean: 0.953\n",
            "Fold 5 - Precision: 0.972, Recall: 0.935, F1: 0.953, PR-AUC: 0.993, G-Mean: 0.954\n",
            "\n",
            "Model: Random Forest\n",
            "Fold 1 - Precision: 1.000, Recall: 1.000, F1: 1.000, PR-AUC: 1.000, G-Mean: 1.000\n",
            "Fold 2 - Precision: 1.000, Recall: 1.000, F1: 1.000, PR-AUC: 1.000, G-Mean: 1.000\n",
            "Fold 3 - Precision: 1.000, Recall: 1.000, F1: 1.000, PR-AUC: 1.000, G-Mean: 1.000\n",
            "Fold 4 - Precision: 1.000, Recall: 1.000, F1: 1.000, PR-AUC: 1.000, G-Mean: 1.000\n",
            "Fold 5 - Precision: 1.000, Recall: 1.000, F1: 1.000, PR-AUC: 1.000, G-Mean: 1.000\n",
            "\n",
            "Model: XGBoost\n"
          ]
        },
        {
          "output_type": "stream",
          "name": "stderr",
          "text": [
            "/usr/local/lib/python3.11/dist-packages/xgboost/core.py:158: UserWarning: [15:34:13] WARNING: /workspace/src/learner.cc:740: \n",
            "Parameters: { \"use_label_encoder\" } are not used.\n",
            "\n",
            "  warnings.warn(smsg, UserWarning)\n"
          ]
        },
        {
          "output_type": "stream",
          "name": "stdout",
          "text": [
            "Fold 1 - Precision: 1.000, Recall: 1.000, F1: 1.000, PR-AUC: 1.000, G-Mean: 1.000\n"
          ]
        },
        {
          "output_type": "stream",
          "name": "stderr",
          "text": [
            "/usr/local/lib/python3.11/dist-packages/xgboost/core.py:158: UserWarning: [15:34:22] WARNING: /workspace/src/learner.cc:740: \n",
            "Parameters: { \"use_label_encoder\" } are not used.\n",
            "\n",
            "  warnings.warn(smsg, UserWarning)\n"
          ]
        },
        {
          "output_type": "stream",
          "name": "stdout",
          "text": [
            "Fold 2 - Precision: 1.000, Recall: 1.000, F1: 1.000, PR-AUC: 1.000, G-Mean: 1.000\n"
          ]
        },
        {
          "output_type": "stream",
          "name": "stderr",
          "text": [
            "/usr/local/lib/python3.11/dist-packages/xgboost/core.py:158: UserWarning: [15:34:30] WARNING: /workspace/src/learner.cc:740: \n",
            "Parameters: { \"use_label_encoder\" } are not used.\n",
            "\n",
            "  warnings.warn(smsg, UserWarning)\n"
          ]
        },
        {
          "output_type": "stream",
          "name": "stdout",
          "text": [
            "Fold 3 - Precision: 1.000, Recall: 1.000, F1: 1.000, PR-AUC: 1.000, G-Mean: 1.000\n"
          ]
        },
        {
          "output_type": "stream",
          "name": "stderr",
          "text": [
            "/usr/local/lib/python3.11/dist-packages/xgboost/core.py:158: UserWarning: [15:34:40] WARNING: /workspace/src/learner.cc:740: \n",
            "Parameters: { \"use_label_encoder\" } are not used.\n",
            "\n",
            "  warnings.warn(smsg, UserWarning)\n"
          ]
        },
        {
          "output_type": "stream",
          "name": "stdout",
          "text": [
            "Fold 4 - Precision: 1.000, Recall: 1.000, F1: 1.000, PR-AUC: 1.000, G-Mean: 1.000\n"
          ]
        },
        {
          "output_type": "stream",
          "name": "stderr",
          "text": [
            "/usr/local/lib/python3.11/dist-packages/xgboost/core.py:158: UserWarning: [15:34:49] WARNING: /workspace/src/learner.cc:740: \n",
            "Parameters: { \"use_label_encoder\" } are not used.\n",
            "\n",
            "  warnings.warn(smsg, UserWarning)\n"
          ]
        },
        {
          "output_type": "stream",
          "name": "stdout",
          "text": [
            "Fold 5 - Precision: 1.000, Recall: 1.000, F1: 1.000, PR-AUC: 1.000, G-Mean: 1.000\n"
          ]
        }
      ]
    },
    {
      "cell_type": "code",
      "source": [
        "results_df = pd.DataFrame(results)\n",
        "results_df.to_csv(\"model_evaluation_results.csv\", index=False)"
      ],
      "metadata": {
        "id": "lY3h3XuYLw5Z"
      },
      "execution_count": null,
      "outputs": []
    },
    {
      "cell_type": "code",
      "source": [
        "import pandas as pd\n",
        "results_df = pd.read_csv(\"model_evaluation_results.csv\")\n",
        "print(results_df.head())"
      ],
      "metadata": {
        "colab": {
          "base_uri": "https://localhost:8080/"
        },
        "id": "38Rmo5tBE6mG",
        "outputId": "87ffcff3-c6eb-46e6-bdce-ac2e49253f86"
      },
      "execution_count": null,
      "outputs": [
        {
          "output_type": "stream",
          "name": "stdout",
          "text": [
            "     Method                Model  Fold  Precision    Recall        F1  \\\n",
            "0  Original  Logistic Regression     1   0.905660  0.615385  0.732824   \n",
            "1  Original  Logistic Regression     2   0.923077  0.607595  0.732824   \n",
            "2  Original  Logistic Regression     3   0.830769  0.683544  0.750000   \n",
            "3  Original  Logistic Regression     4   0.847458  0.632911  0.724638   \n",
            "4  Original  Logistic Regression     5   0.877193  0.632911  0.735294   \n",
            "\n",
            "     PR-AUC    G-Mean  \n",
            "0  0.819168  0.784421  \n",
            "1  0.755665  0.779449  \n",
            "2  0.704361  0.826667  \n",
            "3  0.799642  0.795479  \n",
            "4  0.737066  0.795496  \n"
          ]
        }
      ]
    },
    {
      "cell_type": "code",
      "source": [
        "import matplotlib.pyplot as plt\n",
        "import seaborn as sns\n",
        "\n",
        "# Filtering the data\n",
        "original_results = results_df[results_df['Method'] == 'Original']\n",
        "\n",
        "# Calculating averages by metrics\n",
        "average_scores_original = original_results.groupby(['Model']).agg({\n",
        "    'Precision': 'mean',\n",
        "    'Recall': 'mean',\n",
        "    'F1': 'mean',\n",
        "    'PR-AUC': 'mean',\n",
        "    'G-Mean': 'mean'\n",
        "}).reset_index()\n",
        "\n",
        "df_melted = average_scores_original.melt(id_vars=[\"Model\"], value_vars=[\"Precision\", \"Recall\", \"F1\", \"PR-AUC\", \"G-Mean\"], var_name=\"Metric\", value_name=\"Average Score\")\n",
        "plt.figure(figsize=(14, 8))\n",
        "\n",
        "sns.barplot(data=df_melted, x='Metric', y='Average Score', hue='Model', palette='Set2', dodge=True)\n",
        "\n",
        "for p in plt.gca().patches:\n",
        "    height = p.get_height()\n",
        "    width = p.get_width()\n",
        "    x_position = p.get_x() + width / 2\n",
        "    y_position = p.get_y() + height / 2\n",
        "    plt.text(x_position, height + 0.005, f'{height:.3f}', ha='center', fontsize=10, va='bottom')\n",
        "\n",
        "plt.title('Model Performance on the Original Dataset', fontsize=16)\n",
        "plt.xlabel('Metric', fontsize=12)\n",
        "plt.ylabel('Average Score', fontsize=12)\n",
        "plt.xticks(rotation=45)\n",
        "\n",
        "plt.tight_layout()\n",
        "plt.show()\n"
      ],
      "metadata": {
        "colab": {
          "base_uri": "https://localhost:8080/",
          "height": 738
        },
        "id": "lJcVtlRDQL0l",
        "outputId": "c508b545-a17d-4541-86bd-c039084a71a5"
      },
      "execution_count": null,
      "outputs": [
        {
          "output_type": "display_data",
          "data": {
            "text/plain": [
              "<Figure size 1400x800 with 1 Axes>"
            ],
            "image/png": "[encoded data removed]"
          },
          "metadata": {}
        }
      ]
    },
    {
      "cell_type": "code",
      "source": [
        "random_undersampling_results = results_df[results_df['Method'] == 'Random Undersampling']\n",
        "\n",
        "average_scores_undersampling = random_undersampling_results.groupby(['Model']).agg({\n",
        "    'Precision': 'mean',\n",
        "    'Recall': 'mean',\n",
        "    'F1': 'mean',\n",
        "    'PR-AUC': 'mean',\n",
        "    'G-Mean': 'mean'\n",
        "}).reset_index()\n",
        "\n",
        "df_melted_undersampling = average_scores_undersampling.melt(id_vars=[\"Model\"], value_vars=[\"Precision\", \"Recall\", \"F1\", \"PR-AUC\", \"G-Mean\"], var_name=\"Metric\", value_name=\"Average Score\")\n",
        "\n",
        "plt.figure(figsize=(14, 8))\n",
        "\n",
        "sns.barplot(data=df_melted_undersampling, x='Metric', y='Average Score', hue='Model', palette='Set2', dodge=True)\n",
        "\n",
        "for p in plt.gca().patches:\n",
        "    height = p.get_height()\n",
        "    width = p.get_width()\n",
        "    x_position = p.get_x() + width / 2\n",
        "    y_position = p.get_y() + height / 2\n",
        "    plt.text(x_position, height + 0.005, f'{height:.3f}', ha='center', fontsize=10, va='bottom')\n",
        "\n",
        "plt.title('Random Undersampling Model Performance', fontsize=16)\n",
        "plt.xlabel('Metric', fontsize=12)\n",
        "plt.ylabel('Average Score', fontsize=12)\n",
        "plt.xticks(rotation=45)\n",
        "\n",
        "plt.tight_layout()\n",
        "plt.show()"
      ],
      "metadata": {
        "colab": {
          "base_uri": "https://localhost:8080/",
          "height": 738
        },
        "id": "ZIZ1DC0FjDt-",
        "outputId": "63049fbc-2804-4690-ffc6-599c864520c4"
      },
      "execution_count": null,
      "outputs": [
        {
          "output_type": "display_data",
          "data": {
            "text/plain": [
              "<Figure size 1400x800 with 1 Axes>"
            ],
            "image/png": "[encoded data removed]"
          },
          "metadata": {}
        }
      ]
    },
    {
      "cell_type": "code",
      "source": [
        "smote_results = results_df[results_df['Method'] == 'SMOTE']\n",
        "\n",
        "average_scores_smote = smote_results.groupby(['Model']).agg({\n",
        "    'Precision': 'mean',\n",
        "    'Recall': 'mean',\n",
        "    'F1': 'mean',\n",
        "    'PR-AUC': 'mean',\n",
        "    'G-Mean': 'mean'\n",
        "}).reset_index()\n",
        "\n",
        "df_melted_smote = average_scores_smote.melt(id_vars=[\"Model\"], value_vars=[\"Precision\", \"Recall\", \"F1\", \"PR-AUC\", \"G-Mean\"], var_name=\"Metric\", value_name=\"Average Score\")\n",
        "\n",
        "plt.figure(figsize=(14, 8))\n",
        "\n",
        "sns.barplot(data=df_melted_smote, x='Metric', y='Average Score', hue='Model', palette='Set2', dodge=True)\n",
        "\n",
        "for p in plt.gca().patches:\n",
        "    height = p.get_height()\n",
        "    width = p.get_width()\n",
        "    x_position = p.get_x() + width / 2\n",
        "    y_position = p.get_y() + height / 2\n",
        "    plt.text(x_position, height + 0.005, f'{height:.3f}', ha='center', fontsize=10, va='bottom')\n",
        "\n",
        "plt.title('SMOTE Model Performance', fontsize=16)\n",
        "plt.xlabel('Metric', fontsize=12)\n",
        "plt.ylabel('Average Score', fontsize=12)\n",
        "plt.xticks(rotation=45)\n",
        "\n",
        "plt.tight_layout()\n",
        "plt.show()"
      ],
      "metadata": {
        "colab": {
          "base_uri": "https://localhost:8080/",
          "height": 738
        },
        "id": "XXASLV_fnDr_",
        "outputId": "db7f96e0-9f61-43b7-b2b5-daeb5c299c6d"
      },
      "execution_count": null,
      "outputs": [
        {
          "output_type": "display_data",
          "data": {
            "text/plain": [
              "<Figure size 1400x800 with 1 Axes>"
            ],
            "image/png": "[encoded data removed]"
          },
          "metadata": {}
        }
      ]
    },
    {
      "cell_type": "code",
      "source": [
        "class_weighting_results = results_df[results_df['Method'] == 'Class Weighting']\n",
        "\n",
        "average_scores_class_weighting = class_weighting_results.groupby(['Model']).agg({\n",
        "    'Precision': 'mean',\n",
        "    'Recall': 'mean',\n",
        "    'F1': 'mean',\n",
        "    'PR-AUC': 'mean',\n",
        "    'G-Mean': 'mean'\n",
        "}).reset_index()\n",
        "\n",
        "df_melted_class_weighting = average_scores_class_weighting.melt(id_vars=[\"Model\"], value_vars=[\"Precision\", \"Recall\", \"F1\", \"PR-AUC\", \"G-Mean\"], var_name=\"Metric\", value_name=\"Average Score\")\n",
        "\n",
        "plt.figure(figsize=(14, 8))\n",
        "\n",
        "sns.barplot(data=df_melted_class_weighting, x='Metric', y='Average Score', hue='Model', palette='Set2', dodge=True)\n",
        "\n",
        "for p in plt.gca().patches:\n",
        "    height = p.get_height()\n",
        "    width = p.get_width()\n",
        "    x_position = p.get_x() + width / 2\n",
        "    y_position = p.get_y() + height / 2\n",
        "    plt.text(x_position, height + 0.005, f'{height:.3f}', ha='center', fontsize=10, va='bottom')\n",
        "\n",
        "plt.title('Class Weighting Model Performance', fontsize=16)\n",
        "plt.xlabel('Metric', fontsize=12)\n",
        "plt.ylabel('Average Score', fontsize=12)\n",
        "plt.xticks(rotation=45)\n",
        "plt.tight_layout()\n",
        "plt.show()\n"
      ],
      "metadata": {
        "colab": {
          "base_uri": "https://localhost:8080/",
          "height": 738
        },
        "id": "GywXxCVerPgg",
        "outputId": "b4e5b7ab-9fc7-4da0-f22f-96ae28f25c08"
      },
      "execution_count": null,
      "outputs": [
        {
          "output_type": "display_data",
          "data": {
            "text/plain": [
              "<Figure size 1400x800 with 1 Axes>"
            ],
            "image/png": "[encoded data removed]"
          },
          "metadata": {}
        }
      ]
    },
    {
      "cell_type": "code",
      "source": [
        "brf_results = results_df[results_df['Method'] == 'Balanced RF']\n",
        "\n",
        "average_scores_brf = brf_results.groupby(['Model']).agg({\n",
        "    'Precision': 'mean',\n",
        "    'Recall': 'mean',\n",
        "    'F1': 'mean',\n",
        "    'PR-AUC': 'mean',\n",
        "    'G-Mean': 'mean'\n",
        "}).reset_index()\n",
        "\n",
        "df_melted_brf = average_scores_brf.melt(id_vars=[\"Model\"], value_vars=[\"Precision\", \"Recall\", \"F1\", \"PR-AUC\", \"G-Mean\"], var_name=\"Metric\", value_name=\"Average Score\")\n",
        "plt.figure(figsize=(14, 8))\n",
        "\n",
        "sns.barplot(data=df_melted_brf, x='Metric', y='Average Score', hue='Model', palette='Set2', dodge=True)\n",
        "\n",
        "for p in plt.gca().patches:\n",
        "    height = p.get_height()\n",
        "    width = p.get_width()\n",
        "    x_position = p.get_x() + width / 2\n",
        "    y_position = p.get_y() + height / 2\n",
        "    plt.text(x_position, height + 0.005, f'{height:.3f}', ha='center', fontsize=10, va='bottom')\n",
        "\n",
        "plt.title('Balanced Random Forest (BRF) Model Performance', fontsize=16)\n",
        "plt.xlabel('Metric', fontsize=12)\n",
        "plt.ylabel('Average Score', fontsize=12)\n",
        "plt.xticks(rotation=45)\n",
        "\n",
        "plt.tight_layout()\n",
        "plt.show()\n"
      ],
      "metadata": {
        "colab": {
          "base_uri": "https://localhost:8080/",
          "height": 738
        },
        "id": "oI_cLiu_tcqE",
        "outputId": "fe1de897-6a73-4c76-c121-6d5465b0126d"
      },
      "execution_count": null,
      "outputs": [
        {
          "output_type": "display_data",
          "data": {
            "text/plain": [
              "<Figure size 1400x800 with 1 Axes>"
            ],
            "image/png": "[encoded data removed]"
          },
          "metadata": {}
        }
      ]
    },
    {
      "cell_type": "code",
      "source": [
        "ksmoteenn_results = results_df[results_df['Method'] == 'K-SMOTEENN']\n",
        "\n",
        "average_scores_ksmoteenn = ksmoteenn_results.groupby(['Model']).agg({\n",
        "    'Precision': 'mean',\n",
        "    'Recall': 'mean',\n",
        "    'F1': 'mean',\n",
        "    'PR-AUC': 'mean',\n",
        "    'G-Mean': 'mean'\n",
        "}).reset_index()\n",
        "\n",
        "df_melted_ksmoteenn = average_scores_ksmoteenn.melt(id_vars=[\"Model\"], value_vars=[\"Precision\", \"Recall\", \"F1\", \"PR-AUC\", \"G-Mean\"], var_name=\"Metric\", value_name=\"Average Score\")\n",
        "\n",
        "plt.figure(figsize=(14, 8))\n",
        "\n",
        "sns.barplot(data=df_melted_ksmoteenn, x='Metric', y='Average Score', hue='Model', palette='Set2', dodge=True)\n",
        "\n",
        "for p in plt.gca().patches:\n",
        "    height = p.get_height()\n",
        "    width = p.get_width()\n",
        "    x_position = p.get_x() + width / 2\n",
        "    y_position = p.get_y() + height / 2\n",
        "    plt.text(x_position, height + 0.005, f'{height:.3f}', ha='center', fontsize=10, va='bottom')\n",
        "\n",
        "plt.title('K-SMOTEENN Model Performance', fontsize=16)\n",
        "plt.xlabel('Metric', fontsize=12)\n",
        "plt.ylabel('Average Score', fontsize=12)\n",
        "plt.xticks(rotation=45)\n",
        "plt.tight_layout()\n",
        "plt.show()\n"
      ],
      "metadata": {
        "colab": {
          "base_uri": "https://localhost:8080/",
          "height": 738
        },
        "id": "QDSB3cl4ufja",
        "outputId": "c4672ccc-066e-48e3-f051-fbeed80d026a"
      },
      "execution_count": null,
      "outputs": [
        {
          "output_type": "display_data",
          "data": {
            "text/plain": [
              "<Figure size 1400x800 with 1 Axes>"
            ],
            "image/png": "[encoded data removed]"
          },
          "metadata": {}
        }
      ]
    },
    {
      "cell_type": "code",
      "source": [
        "from scipy import stats\n",
        "\n",
        "# Grouping data by 'Method' to apply ANOVA on F1 score\n",
        "f1_data = [results_df[results_df['Method'] == method]['F1'] for method in results_df['Method'].unique()]\n",
        "\n",
        "# Perform ANOVA\n",
        "anova_result = stats.f_oneway(*f1_data)\n",
        "\n",
        "# Display the ANOVA result\n",
        "anova_result"
      ],
      "metadata": {
        "colab": {
          "base_uri": "https://localhost:8080/"
        },
        "id": "DQ64nRDQFVGn",
        "outputId": "c2ccae42-55fd-407d-b9f8-ca7f932aef63"
      },
      "execution_count": null,
      "outputs": [
        {
          "output_type": "execute_result",
          "data": {
            "text/plain": [
              "F_onewayResult(statistic=np.float64(14.541264381559158), pvalue=np.float64(2.975276060102797e-10))"
            ]
          },
          "metadata": {},
          "execution_count": 4
        }
      ]
    },
    {
      "cell_type": "code",
      "source": [
        "from statsmodels.stats.multicomp import pairwise_tukeyhsd\n",
        "\n",
        "# Perform Tukey HSD test\n",
        "tukey_result = pairwise_tukeyhsd(endog=results_df['F1'], groups=results_df['Method'], alpha=0.05)\n",
        "\n",
        "# Display the Tukey HSD result\n",
        "print(tukey_result)"
      ],
      "metadata": {
        "colab": {
          "base_uri": "https://localhost:8080/"
        },
        "id": "bdsmLREBFi4_",
        "outputId": "86979613-bf52-4a51-d5a9-716d0055540b"
      },
      "execution_count": null,
      "outputs": [
        {
          "output_type": "stream",
          "name": "stdout",
          "text": [
            "              Multiple Comparison of Means - Tukey HSD, FWER=0.05               \n",
            "================================================================================\n",
            "       group1               group2        meandiff p-adj   lower   upper  reject\n",
            "--------------------------------------------------------------------------------\n",
            "         Balanced RF      Class Weighting  -0.2139 0.0024 -0.3732 -0.0546   True\n",
            "         Balanced RF           K-SMOTEENN   0.1687 0.0316  0.0093   0.328   True\n",
            "         Balanced RF             Original      0.0    1.0 -0.1593  0.1593  False\n",
            "         Balanced RF Random Undersampling   0.1286 0.1846 -0.0307  0.2879  False\n",
            "         Balanced RF                SMOTE   0.1681 0.0324  0.0088  0.3275   True\n",
            "     Class Weighting           K-SMOTEENN   0.3826    0.0  0.2233  0.5419   True\n",
            "     Class Weighting             Original   0.2139 0.0024  0.0546  0.3732   True\n",
            "     Class Weighting Random Undersampling   0.3425    0.0  0.1832  0.5018   True\n",
            "     Class Weighting                SMOTE   0.3821    0.0  0.2227  0.5414   True\n",
            "          K-SMOTEENN             Original  -0.1687 0.0316  -0.328 -0.0093   True\n",
            "          K-SMOTEENN Random Undersampling    -0.04 0.9772 -0.1994  0.1193  False\n",
            "          K-SMOTEENN                SMOTE  -0.0005    1.0 -0.1598  0.1588  False\n",
            "            Original Random Undersampling   0.1286 0.1846 -0.0307  0.2879  False\n",
            "            Original                SMOTE   0.1681 0.0324  0.0088  0.3275   True\n",
            "Random Undersampling                SMOTE   0.0395 0.9785 -0.1198  0.1988  False\n",
            "--------------------------------------------------------------------------------\n"
          ]
        }
      ]
    },
    {
      "cell_type": "code",
      "source": [
        "import seaborn as sns\n",
        "import matplotlib.pyplot as plt\n",
        "\n",
        "# Set up the plot style for better visualization\n",
        "sns.set(style=\"whitegrid\")\n",
        "\n",
        "# Plotting F1-score comparison across all methods\n",
        "plt.figure(figsize=(12, 6))\n",
        "sns.boxplot(data=results_df, x='Method', y='F1', palette='Set2')\n",
        "plt.title('F1-score Comparison Across Methods', fontsize=14)\n",
        "plt.xlabel('Method', fontsize=12)\n",
        "plt.ylabel('F1-score', fontsize=12)\n",
        "plt.xticks(rotation=45, ha=\"right\")\n",
        "plt.tight_layout()\n",
        "\n",
        "# Show the plot\n",
        "plt.show()"
      ],
      "metadata": {
        "colab": {
          "base_uri": "https://localhost:8080/",
          "height": 702
        },
        "id": "qC31mNuoGSay",
        "outputId": "3098d0a5-204d-4321-8c12-7f2930706e3e"
      },
      "execution_count": null,
      "outputs": [
        {
          "output_type": "stream",
          "name": "stderr",
          "text": [
            "<ipython-input-6-f157d43a7559>:9: FutureWarning: \n",
            "\n",
            "Passing `palette` without assigning `hue` is deprecated and will be removed in v0.14.0. Assign the `x` variable to `hue` and set `legend=False` for the same effect.\n",
            "\n",
            "  sns.boxplot(data=results_df, x='Method', y='F1', palette='Set2')\n"
          ]
        },
        {
          "output_type": "display_data",
          "data": {
            "text/plain": [
              "<Figure size 1200x600 with 1 Axes>"
            ],
            "image/png": "[encoded data removed]"
          },
          "metadata": {}
        }
      ]
    },
    {
      "cell_type": "code",
      "source": [
        "# Grouping data by 'Method' to apply ANOVA on PR-AUC score\n",
        "pr_auc_data = [results_df[results_df['Method'] == method]['PR-AUC'] for method in results_df['Method'].unique()]\n",
        "\n",
        "# Perform ANOVA\n",
        "anova_pr_auc_result = stats.f_oneway(*pr_auc_data)\n",
        "\n",
        "# Display the ANOVA result\n",
        "anova_pr_auc_result"
      ],
      "metadata": {
        "colab": {
          "base_uri": "https://localhost:8080/"
        },
        "id": "dcHjDnmWIxmt",
        "outputId": "2e144fe8-6307-4015-b5c4-ee17b7d229e8"
      },
      "execution_count": null,
      "outputs": [
        {
          "output_type": "execute_result",
          "data": {
            "text/plain": [
              "F_onewayResult(statistic=np.float64(89.91921669032601), pvalue=np.float64(3.150404768949355e-32))"
            ]
          },
          "metadata": {},
          "execution_count": 7
        }
      ]
    },
    {
      "cell_type": "code",
      "source": [
        "# Perform Tukey HSD test for PR-AUC\n",
        "tukey_pr_auc_result = pairwise_tukeyhsd(endog=results_df['PR-AUC'], groups=results_df['Method'], alpha=0.05)\n",
        "\n",
        "# Display the Tukey HSD result\n",
        "print(tukey_pr_auc_result)"
      ],
      "metadata": {
        "colab": {
          "base_uri": "https://localhost:8080/"
        },
        "id": "5ztOq6JyI5_1",
        "outputId": "5171fb26-9ab5-4d6e-ac1a-d5ee3299e5a8"
      },
      "execution_count": null,
      "outputs": [
        {
          "output_type": "stream",
          "name": "stdout",
          "text": [
            "              Multiple Comparison of Means - Tukey HSD, FWER=0.05               \n",
            "================================================================================\n",
            "       group1               group2        meandiff p-adj   lower   upper  reject\n",
            "--------------------------------------------------------------------------------\n",
            "         Balanced RF      Class Weighting  -0.0062 0.9981 -0.0482  0.0359  False\n",
            "         Balanced RF           K-SMOTEENN   0.1785    0.0  0.1365  0.2206   True\n",
            "         Balanced RF             Original      0.0    1.0 -0.0421  0.0421  False\n",
            "         Balanced RF Random Undersampling   0.1659    0.0  0.1238  0.2079   True\n",
            "         Balanced RF                SMOTE   0.1784    0.0  0.1363  0.2204   True\n",
            "     Class Weighting           K-SMOTEENN   0.1847    0.0  0.1426  0.2268   True\n",
            "     Class Weighting             Original   0.0062 0.9981 -0.0359  0.0482  False\n",
            "     Class Weighting Random Undersampling    0.172    0.0    0.13  0.2141   True\n",
            "     Class Weighting                SMOTE   0.1845    0.0  0.1425  0.2266   True\n",
            "          K-SMOTEENN             Original  -0.1785    0.0 -0.2206 -0.1365   True\n",
            "          K-SMOTEENN Random Undersampling  -0.0127 0.9508 -0.0547  0.0294  False\n",
            "          K-SMOTEENN                SMOTE  -0.0001    1.0 -0.0422  0.0419  False\n",
            "            Original Random Undersampling   0.1659    0.0  0.1238  0.2079   True\n",
            "            Original                SMOTE   0.1784    0.0  0.1363  0.2204   True\n",
            "Random Undersampling                SMOTE   0.0125  0.953 -0.0295  0.0546  False\n",
            "--------------------------------------------------------------------------------\n"
          ]
        }
      ]
    },
    {
      "cell_type": "code",
      "source": [
        "import seaborn as sns\n",
        "import matplotlib.pyplot as plt\n",
        "\n",
        "# Set up the plot style for better visualization\n",
        "sns.set(style=\"whitegrid\")\n",
        "\n",
        "# Plotting PR-AUC comparison across all methods\n",
        "plt.figure(figsize=(12, 6))\n",
        "sns.boxplot(data=results_df, x='Method', y='PR-AUC', palette='Set2')\n",
        "plt.title('PR-AUC Comparison Across Methods', fontsize=14)\n",
        "plt.xlabel('Method', fontsize=12)\n",
        "plt.ylabel('PR-AUC', fontsize=12)\n",
        "plt.xticks(rotation=45, ha=\"right\")\n",
        "plt.tight_layout()\n",
        "\n",
        "# Show the plot\n",
        "plt.show()"
      ],
      "metadata": {
        "colab": {
          "base_uri": "https://localhost:8080/",
          "height": 702
        },
        "id": "b_tYWrM9JOjD",
        "outputId": "54e9a333-336c-4b5f-945f-847406406ceb"
      },
      "execution_count": null,
      "outputs": [
        {
          "output_type": "stream",
          "name": "stderr",
          "text": [
            "<ipython-input-9-29e725ad81a1>:9: FutureWarning: \n",
            "\n",
            "Passing `palette` without assigning `hue` is deprecated and will be removed in v0.14.0. Assign the `x` variable to `hue` and set `legend=False` for the same effect.\n",
            "\n",
            "  sns.boxplot(data=results_df, x='Method', y='PR-AUC', palette='Set2')\n"
          ]
        },
        {
          "output_type": "display_data",
          "data": {
            "text/plain": [
              "<Figure size 1200x600 with 1 Axes>"
            ],
            "image/png": "[encoded data removed]"
          },
          "metadata": {}
        }
      ]
    },
    {
      "cell_type": "code",
      "source": [
        "# Grouping data by 'Method' to apply ANOVA on G-Mean score\n",
        "gmean_data = [results_df[results_df['Method'] == method]['G-Mean'] for method in results_df['Method'].unique()]\n",
        "\n",
        "# Perform ANOVA\n",
        "anova_gmean_result = stats.f_oneway(*gmean_data)\n",
        "\n",
        "# Display the ANOVA result for G-Mean\n",
        "anova_gmean_result"
      ],
      "metadata": {
        "colab": {
          "base_uri": "https://localhost:8080/"
        },
        "id": "6mYYw647JePC",
        "outputId": "301effaa-90c8-441b-af9f-10feb44eb2c0"
      },
      "execution_count": null,
      "outputs": [
        {
          "output_type": "execute_result",
          "data": {
            "text/plain": [
              "F_onewayResult(statistic=np.float64(43.3470912143796), pvalue=np.float64(7.223969435491209e-22))"
            ]
          },
          "metadata": {},
          "execution_count": 10
        }
      ]
    },
    {
      "cell_type": "code",
      "source": [
        "# Perform Tukey HSD test for G-Mean\n",
        "tukey_gmean_result = pairwise_tukeyhsd(endog=results_df['G-Mean'], groups=results_df['Method'], alpha=0.05)\n",
        "\n",
        "# Display the Tukey HSD result for G-Mean\n",
        "print(tukey_gmean_result)"
      ],
      "metadata": {
        "colab": {
          "base_uri": "https://localhost:8080/"
        },
        "id": "8RIpS4yXJzMT",
        "outputId": "a117087b-b291-4f0a-eafe-1991d0980224"
      },
      "execution_count": null,
      "outputs": [
        {
          "output_type": "stream",
          "name": "stdout",
          "text": [
            "              Multiple Comparison of Means - Tukey HSD, FWER=0.05               \n",
            "================================================================================\n",
            "       group1               group2        meandiff p-adj   lower   upper  reject\n",
            "--------------------------------------------------------------------------------\n",
            "         Balanced RF      Class Weighting   0.0468 0.0055  0.0096  0.0839   True\n",
            "         Balanced RF           K-SMOTEENN   0.1292    0.0  0.0921  0.1664   True\n",
            "         Balanced RF             Original      0.0    1.0 -0.0372  0.0372  False\n",
            "         Balanced RF Random Undersampling     0.09    0.0  0.0528  0.1272   True\n",
            "         Balanced RF                SMOTE   0.1287    0.0  0.0916  0.1659   True\n",
            "     Class Weighting           K-SMOTEENN   0.0824    0.0  0.0453  0.1196   True\n",
            "     Class Weighting             Original  -0.0468 0.0055 -0.0839 -0.0096   True\n",
            "     Class Weighting Random Undersampling   0.0432  0.013  0.0061  0.0804   True\n",
            "     Class Weighting                SMOTE    0.082    0.0  0.0448  0.1191   True\n",
            "          K-SMOTEENN             Original  -0.1292    0.0 -0.1664 -0.0921   True\n",
            "          K-SMOTEENN Random Undersampling  -0.0392 0.0325 -0.0764 -0.0021   True\n",
            "          K-SMOTEENN                SMOTE  -0.0005    1.0 -0.0376  0.0367  False\n",
            "            Original Random Undersampling     0.09    0.0  0.0528  0.1272   True\n",
            "            Original                SMOTE   0.1287    0.0  0.0916  0.1659   True\n",
            "Random Undersampling                SMOTE   0.0387 0.0361  0.0016  0.0759   True\n",
            "--------------------------------------------------------------------------------\n"
          ]
        }
      ]
    },
    {
      "cell_type": "code",
      "source": [
        "# Set up the plot style for better visualization\n",
        "sns.set(style=\"whitegrid\")\n",
        "\n",
        "# Plotting G-Mean comparison across all methods\n",
        "plt.figure(figsize=(12, 6))\n",
        "sns.boxplot(data=results_df, x='Method', y='G-Mean', palette='Set2')\n",
        "plt.title('G-Mean Comparison Across Methods', fontsize=14)\n",
        "plt.xlabel('Method', fontsize=12)\n",
        "plt.ylabel('G-Mean', fontsize=12)\n",
        "plt.xticks(rotation=45, ha=\"right\")\n",
        "plt.tight_layout()\n",
        "\n",
        "# Show the plot\n",
        "plt.show()"
      ],
      "metadata": {
        "colab": {
          "base_uri": "https://localhost:8080/",
          "height": 702
        },
        "id": "F-Ch007iJ2E2",
        "outputId": "f9a88765-7e7b-424d-ed8e-a87797749f2d"
      },
      "execution_count": null,
      "outputs": [
        {
          "output_type": "stream",
          "name": "stderr",
          "text": [
            "<ipython-input-12-bc9ed5eea970>:9: FutureWarning: \n",
            "\n",
            "Passing `palette` without assigning `hue` is deprecated and will be removed in v0.14.0. Assign the `x` variable to `hue` and set `legend=False` for the same effect.\n",
            "\n",
            "  sns.boxplot(data=results_df, x='Method', y='G-Mean', palette='Set2')\n"
          ]
        },
        {
          "output_type": "display_data",
          "data": {
            "text/plain": [
              "<Figure size 1200x600 with 1 Axes>"
            ],
            "image/png": "[encoded data removed]"
          },
          "metadata": {}
        }
      ]
    }
  ],
  "metadata": {
    "colab": {
      "provenance": []
    },
    "kernelspec": {
      "display_name": "Python 3",
      "name": "python3"
    },
    "language_info": {
      "name": "python"
    },
    "widgets": {
      "application/vnd.jupyter.widget-state+json": {
        "169f6416a99141dcb184e8f3bfd05914": {
          "model_module": "@jupyter-widgets/controls",
          "model_name": "HBoxModel",
          "model_module_version": "1.5.0",
          "state": {
            "_dom_classes": [],
            "_model_module": "@jupyter-widgets/controls",
            "_model_module_version": "1.5.0",
            "_model_name": "HBoxModel",
            "_view_count": null,
            "_view_module": "@jupyter-widgets/controls",
            "_view_module_version": "1.5.0",
            "_view_name": "HBoxView",
            "box_style": "",
            "children": [
              "IPY_MODEL_261dca754218457c8dccb46e38a23c8c",
              "IPY_MODEL_59452d848138406ea37e75df79e558f9",
              "IPY_MODEL_0f61235c8d854399af38ca97d7e3a0a6"
            ],
            "layout": "IPY_MODEL_8f202c81c5804111a34f898254513d55"
          }
        },
        "261dca754218457c8dccb46e38a23c8c": {
          "model_module": "@jupyter-widgets/controls",
          "model_name": "HTMLModel",
          "model_module_version": "1.5.0",
          "state": {
            "_dom_classes": [],
            "_model_module": "@jupyter-widgets/controls",
            "_model_module_version": "1.5.0",
            "_model_name": "HTMLModel",
            "_view_count": null,
            "_view_module": "@jupyter-widgets/controls",
            "_view_module_version": "1.5.0",
            "_view_name": "HTMLView",
            "description": "",
            "description_tooltip": null,
            "layout": "IPY_MODEL_41e180f6569f45b9a0432bfe26c2fb9d",
            "placeholder": "​",
            "style": "IPY_MODEL_9f0b830fb65743249abdd234a9a0f3f5",
            "value": "Balancing Methods: 100%"
          }
        },
        "59452d848138406ea37e75df79e558f9": {
          "model_module": "@jupyter-widgets/controls",
          "model_name": "FloatProgressModel",
          "model_module_version": "1.5.0",
          "state": {
            "_dom_classes": [],
            "_model_module": "@jupyter-widgets/controls",
            "_model_module_version": "1.5.0",
            "_model_name": "FloatProgressModel",
            "_view_count": null,
            "_view_module": "@jupyter-widgets/controls",
            "_view_module_version": "1.5.0",
            "_view_name": "ProgressView",
            "bar_style": "success",
            "description": "",
            "description_tooltip": null,
            "layout": "IPY_MODEL_3b5827f0654e4621ba2c4159c15f99d2",
            "max": 6,
            "min": 0,
            "orientation": "horizontal",
            "style": "IPY_MODEL_45ed24bdb12c47cf8a5da5e9873644eb",
            "value": 6
          }
        },
        "0f61235c8d854399af38ca97d7e3a0a6": {
          "model_module": "@jupyter-widgets/controls",
          "model_name": "HTMLModel",
          "model_module_version": "1.5.0",
          "state": {
            "_dom_classes": [],
            "_model_module": "@jupyter-widgets/controls",
            "_model_module_version": "1.5.0",
            "_model_name": "HTMLModel",
            "_view_count": null,
            "_view_module": "@jupyter-widgets/controls",
            "_view_module_version": "1.5.0",
            "_view_name": "HTMLView",
            "description": "",
            "description_tooltip": null,
            "layout": "IPY_MODEL_f2b16ca053fe4ecba3826f7e6db2103e",
            "placeholder": "​",
            "style": "IPY_MODEL_aed01e026f41461484d9dcf046497014",
            "value": " 6/6 [1:37:37&lt;00:00, 1119.99s/it]"
          }
        },
        "8f202c81c5804111a34f898254513d55": {
          "model_module": "@jupyter-widgets/base",
          "model_name": "LayoutModel",
          "model_module_version": "1.2.0",
          "state": {
            "_model_module": "@jupyter-widgets/base",
            "_model_module_version": "1.2.0",
            "_model_name": "LayoutModel",
            "_view_count": null,
            "_view_module": "@jupyter-widgets/base",
            "_view_module_version": "1.2.0",
            "_view_name": "LayoutView",
            "align_content": null,
            "align_items": null,
            "align_self": null,
            "border": null,
            "bottom": null,
            "display": null,
            "flex": null,
            "flex_flow": null,
            "grid_area": null,
            "grid_auto_columns": null,
            "grid_auto_flow": null,
            "grid_auto_rows": null,
            "grid_column": null,
            "grid_gap": null,
            "grid_row": null,
            "grid_template_areas": null,
            "grid_template_columns": null,
            "grid_template_rows": null,
            "height": null,
            "justify_content": null,
            "justify_items": null,
            "left": null,
            "margin": null,
            "max_height": null,
            "max_width": null,
            "min_height": null,
            "min_width": null,
            "object_fit": null,
            "object_position": null,
            "order": null,
            "overflow": null,
            "overflow_x": null,
            "overflow_y": null,
            "padding": null,
            "right": null,
            "top": null,
            "visibility": null,
            "width": null
          }
        },
        "41e180f6569f45b9a0432bfe26c2fb9d": {
          "model_module": "@jupyter-widgets/base",
          "model_name": "LayoutModel",
          "model_module_version": "1.2.0",
          "state": {
            "_model_module": "@jupyter-widgets/base",
            "_model_module_version": "1.2.0",
            "_model_name": "LayoutModel",
            "_view_count": null,
            "_view_module": "@jupyter-widgets/base",
            "_view_module_version": "1.2.0",
            "_view_name": "LayoutView",
            "align_content": null,
            "align_items": null,
            "align_self": null,
            "border": null,
            "bottom": null,
            "display": null,
            "flex": null,
            "flex_flow": null,
            "grid_area": null,
            "grid_auto_columns": null,
            "grid_auto_flow": null,
            "grid_auto_rows": null,
            "grid_column": null,
            "grid_gap": null,
            "grid_row": null,
            "grid_template_areas": null,
            "grid_template_columns": null,
            "grid_template_rows": null,
            "height": null,
            "justify_content": null,
            "justify_items": null,
            "left": null,
            "margin": null,
            "max_height": null,
            "max_width": null,
            "min_height": null,
            "min_width": null,
            "object_fit": null,
            "object_position": null,
            "order": null,
            "overflow": null,
            "overflow_x": null,
            "overflow_y": null,
            "padding": null,
            "right": null,
            "top": null,
            "visibility": null,
            "width": null
          }
        },
        "9f0b830fb65743249abdd234a9a0f3f5": {
          "model_module": "@jupyter-widgets/controls",
          "model_name": "DescriptionStyleModel",
          "model_module_version": "1.5.0",
          "state": {
            "_model_module": "@jupyter-widgets/controls",
            "_model_module_version": "1.5.0",
            "_model_name": "DescriptionStyleModel",
            "_view_count": null,
            "_view_module": "@jupyter-widgets/base",
            "_view_module_version": "1.2.0",
            "_view_name": "StyleView",
            "description_width": ""
          }
        },
        "3b5827f0654e4621ba2c4159c15f99d2": {
          "model_module": "@jupyter-widgets/base",
          "model_name": "LayoutModel",
          "model_module_version": "1.2.0",
          "state": {
            "_model_module": "@jupyter-widgets/base",
            "_model_module_version": "1.2.0",
            "_model_name": "LayoutModel",
            "_view_count": null,
            "_view_module": "@jupyter-widgets/base",
            "_view_module_version": "1.2.0",
            "_view_name": "LayoutView",
            "align_content": null,
            "align_items": null,
            "align_self": null,
            "border": null,
            "bottom": null,
            "display": null,
            "flex": null,
            "flex_flow": null,
            "grid_area": null,
            "grid_auto_columns": null,
            "grid_auto_flow": null,
            "grid_auto_rows": null,
            "grid_column": null,
            "grid_gap": null,
            "grid_row": null,
            "grid_template_areas": null,
            "grid_template_columns": null,
            "grid_template_rows": null,
            "height": null,
            "justify_content": null,
            "justify_items": null,
            "left": null,
            "margin": null,
            "max_height": null,
            "max_width": null,
            "min_height": null,
            "min_width": null,
            "object_fit": null,
            "object_position": null,
            "order": null,
            "overflow": null,
            "overflow_x": null,
            "overflow_y": null,
            "padding": null,
            "right": null,
            "top": null,
            "visibility": null,
            "width": null
          }
        },
        "45ed24bdb12c47cf8a5da5e9873644eb": {
          "model_module": "@jupyter-widgets/controls",
          "model_name": "ProgressStyleModel",
          "model_module_version": "1.5.0",
          "state": {
            "_model_module": "@jupyter-widgets/controls",
            "_model_module_version": "1.5.0",
            "_model_name": "ProgressStyleModel",
            "_view_count": null,
            "_view_module": "@jupyter-widgets/base",
            "_view_module_version": "1.2.0",
            "_view_name": "StyleView",
            "bar_color": null,
            "description_width": ""
          }
        },
        "f2b16ca053fe4ecba3826f7e6db2103e": {
          "model_module": "@jupyter-widgets/base",
          "model_name": "LayoutModel",
          "model_module_version": "1.2.0",
          "state": {
            "_model_module": "@jupyter-widgets/base",
            "_model_module_version": "1.2.0",
            "_model_name": "LayoutModel",
            "_view_count": null,
            "_view_module": "@jupyter-widgets/base",
            "_view_module_version": "1.2.0",
            "_view_name": "LayoutView",
            "align_content": null,
            "align_items": null,
            "align_self": null,
            "border": null,
            "bottom": null,
            "display": null,
            "flex": null,
            "flex_flow": null,
            "grid_area": null,
            "grid_auto_columns": null,
            "grid_auto_flow": null,
            "grid_auto_rows": null,
            "grid_column": null,
            "grid_gap": null,
            "grid_row": null,
            "grid_template_areas": null,
            "grid_template_columns": null,
            "grid_template_rows": null,
            "height": null,
            "justify_content": null,
            "justify_items": null,
            "left": null,
            "margin": null,
            "max_height": null,
            "max_width": null,
            "min_height": null,
            "min_width": null,
            "object_fit": null,
            "object_position": null,
            "order": null,
            "overflow": null,
            "overflow_x": null,
            "overflow_y": null,
            "padding": null,
            "right": null,
            "top": null,
            "visibility": null,
            "width": null
          }
        },
        "aed01e026f41461484d9dcf046497014": {
          "model_module": "@jupyter-widgets/controls",
          "model_name": "DescriptionStyleModel",
          "model_module_version": "1.5.0",
          "state": {
            "_model_module": "@jupyter-widgets/controls",
            "_model_module_version": "1.5.0",
            "_model_name": "DescriptionStyleModel",
            "_view_count": null,
            "_view_module": "@jupyter-widgets/base",
            "_view_module_version": "1.2.0",
            "_view_name": "StyleView",
            "description_width": ""
          }
        },
        "54f0d4c265524ef0bf4eff6813eb0d85": {
          "model_module": "@jupyter-widgets/controls",
          "model_name": "HBoxModel",
          "model_module_version": "1.5.0",
          "state": {
            "_dom_classes": [],
            "_model_module": "@jupyter-widgets/controls",
            "_model_module_version": "1.5.0",
            "_model_name": "HBoxModel",
            "_view_count": null,
            "_view_module": "@jupyter-widgets/controls",
            "_view_module_version": "1.5.0",
            "_view_name": "HBoxView",
            "box_style": "",
            "children": [
              "IPY_MODEL_d8e9108119ae4d39875d3558d849e0fd",
              "IPY_MODEL_b3418205fd0442018f31b47cc02e9323",
              "IPY_MODEL_c7a685a722144f0faae6c8d7d47009ac"
            ],
            "layout": "IPY_MODEL_39786bb5231a4ee8ab9902ac4b4fb710"
          }
        },
        "d8e9108119ae4d39875d3558d849e0fd": {
          "model_module": "@jupyter-widgets/controls",
          "model_name": "HTMLModel",
          "model_module_version": "1.5.0",
          "state": {
            "_dom_classes": [],
            "_model_module": "@jupyter-widgets/controls",
            "_model_module_version": "1.5.0",
            "_model_name": "HTMLModel",
            "_view_count": null,
            "_view_module": "@jupyter-widgets/controls",
            "_view_module_version": "1.5.0",
            "_view_name": "HTMLView",
            "description": "",
            "description_tooltip": null,
            "layout": "IPY_MODEL_a07f197f19104fb29b21fa2ba20ff440",
            "placeholder": "​",
            "style": "IPY_MODEL_bbcaa0ddae3d45aaba1d7bcaecb78edc",
            "value": "Original Models: 100%"
          }
        },
        "b3418205fd0442018f31b47cc02e9323": {
          "model_module": "@jupyter-widgets/controls",
          "model_name": "FloatProgressModel",
          "model_module_version": "1.5.0",
          "state": {
            "_dom_classes": [],
            "_model_module": "@jupyter-widgets/controls",
            "_model_module_version": "1.5.0",
            "_model_name": "FloatProgressModel",
            "_view_count": null,
            "_view_module": "@jupyter-widgets/controls",
            "_view_module_version": "1.5.0",
            "_view_name": "ProgressView",
            "bar_style": "",
            "description": "",
            "description_tooltip": null,
            "layout": "IPY_MODEL_33522885fc724ba383b74f9fbb44bd1b",
            "max": 3,
            "min": 0,
            "orientation": "horizontal",
            "style": "IPY_MODEL_4c9dc0ec38da43b29d71f8045fba5330",
            "value": 3
          }
        },
        "c7a685a722144f0faae6c8d7d47009ac": {
          "model_module": "@jupyter-widgets/controls",
          "model_name": "HTMLModel",
          "model_module_version": "1.5.0",
          "state": {
            "_dom_classes": [],
            "_model_module": "@jupyter-widgets/controls",
            "_model_module_version": "1.5.0",
            "_model_name": "HTMLModel",
            "_view_count": null,
            "_view_module": "@jupyter-widgets/controls",
            "_view_module_version": "1.5.0",
            "_view_name": "HTMLView",
            "description": "",
            "description_tooltip": null,
            "layout": "IPY_MODEL_e9ab887e638a4e2c978247f03f44a70d",
            "placeholder": "​",
            "style": "IPY_MODEL_99b5d3148a474806b64e2295c0f5124f",
            "value": " 3/3 [16:37&lt;00:00, 320.34s/it]"
          }
        },
        "39786bb5231a4ee8ab9902ac4b4fb710": {
          "model_module": "@jupyter-widgets/base",
          "model_name": "LayoutModel",
          "model_module_version": "1.2.0",
          "state": {
            "_model_module": "@jupyter-widgets/base",
            "_model_module_version": "1.2.0",
            "_model_name": "LayoutModel",
            "_view_count": null,
            "_view_module": "@jupyter-widgets/base",
            "_view_module_version": "1.2.0",
            "_view_name": "LayoutView",
            "align_content": null,
            "align_items": null,
            "align_self": null,
            "border": null,
            "bottom": null,
            "display": null,
            "flex": null,
            "flex_flow": null,
            "grid_area": null,
            "grid_auto_columns": null,
            "grid_auto_flow": null,
            "grid_auto_rows": null,
            "grid_column": null,
            "grid_gap": null,
            "grid_row": null,
            "grid_template_areas": null,
            "grid_template_columns": null,
            "grid_template_rows": null,
            "height": null,
            "justify_content": null,
            "justify_items": null,
            "left": null,
            "margin": null,
            "max_height": null,
            "max_width": null,
            "min_height": null,
            "min_width": null,
            "object_fit": null,
            "object_position": null,
            "order": null,
            "overflow": null,
            "overflow_x": null,
            "overflow_y": null,
            "padding": null,
            "right": null,
            "top": null,
            "visibility": "hidden",
            "width": null
          }
        },
        "a07f197f19104fb29b21fa2ba20ff440": {
          "model_module": "@jupyter-widgets/base",
          "model_name": "LayoutModel",
          "model_module_version": "1.2.0",
          "state": {
            "_model_module": "@jupyter-widgets/base",
            "_model_module_version": "1.2.0",
            "_model_name": "LayoutModel",
            "_view_count": null,
            "_view_module": "@jupyter-widgets/base",
            "_view_module_version": "1.2.0",
            "_view_name": "LayoutView",
            "align_content": null,
            "align_items": null,
            "align_self": null,
            "border": null,
            "bottom": null,
            "display": null,
            "flex": null,
            "flex_flow": null,
            "grid_area": null,
            "grid_auto_columns": null,
            "grid_auto_flow": null,
            "grid_auto_rows": null,
            "grid_column": null,
            "grid_gap": null,
            "grid_row": null,
            "grid_template_areas": null,
            "grid_template_columns": null,
            "grid_template_rows": null,
            "height": null,
            "justify_content": null,
            "justify_items": null,
            "left": null,
            "margin": null,
            "max_height": null,
            "max_width": null,
            "min_height": null,
            "min_width": null,
            "object_fit": null,
            "object_position": null,
            "order": null,
            "overflow": null,
            "overflow_x": null,
            "overflow_y": null,
            "padding": null,
            "right": null,
            "top": null,
            "visibility": null,
            "width": null
          }
        },
        "bbcaa0ddae3d45aaba1d7bcaecb78edc": {
          "model_module": "@jupyter-widgets/controls",
          "model_name": "DescriptionStyleModel",
          "model_module_version": "1.5.0",
          "state": {
            "_model_module": "@jupyter-widgets/controls",
            "_model_module_version": "1.5.0",
            "_model_name": "DescriptionStyleModel",
            "_view_count": null,
            "_view_module": "@jupyter-widgets/base",
            "_view_module_version": "1.2.0",
            "_view_name": "StyleView",
            "description_width": ""
          }
        },
        "33522885fc724ba383b74f9fbb44bd1b": {
          "model_module": "@jupyter-widgets/base",
          "model_name": "LayoutModel",
          "model_module_version": "1.2.0",
          "state": {
            "_model_module": "@jupyter-widgets/base",
            "_model_module_version": "1.2.0",
            "_model_name": "LayoutModel",
            "_view_count": null,
            "_view_module": "@jupyter-widgets/base",
            "_view_module_version": "1.2.0",
            "_view_name": "LayoutView",
            "align_content": null,
            "align_items": null,
            "align_self": null,
            "border": null,
            "bottom": null,
            "display": null,
            "flex": null,
            "flex_flow": null,
            "grid_area": null,
            "grid_auto_columns": null,
            "grid_auto_flow": null,
            "grid_auto_rows": null,
            "grid_column": null,
            "grid_gap": null,
            "grid_row": null,
            "grid_template_areas": null,
            "grid_template_columns": null,
            "grid_template_rows": null,
            "height": null,
            "justify_content": null,
            "justify_items": null,
            "left": null,
            "margin": null,
            "max_height": null,
            "max_width": null,
            "min_height": null,
            "min_width": null,
            "object_fit": null,
            "object_position": null,
            "order": null,
            "overflow": null,
            "overflow_x": null,
            "overflow_y": null,
            "padding": null,
            "right": null,
            "top": null,
            "visibility": null,
            "width": null
          }
        },
        "4c9dc0ec38da43b29d71f8045fba5330": {
          "model_module": "@jupyter-widgets/controls",
          "model_name": "ProgressStyleModel",
          "model_module_version": "1.5.0",
          "state": {
            "_model_module": "@jupyter-widgets/controls",
            "_model_module_version": "1.5.0",
            "_model_name": "ProgressStyleModel",
            "_view_count": null,
            "_view_module": "@jupyter-widgets/base",
            "_view_module_version": "1.2.0",
            "_view_name": "StyleView",
            "bar_color": null,
            "description_width": ""
          }
        },
        "e9ab887e638a4e2c978247f03f44a70d": {
          "model_module": "@jupyter-widgets/base",
          "model_name": "LayoutModel",
          "model_module_version": "1.2.0",
          "state": {
            "_model_module": "@jupyter-widgets/base",
            "_model_module_version": "1.2.0",
            "_model_name": "LayoutModel",
            "_view_count": null,
            "_view_module": "@jupyter-widgets/base",
            "_view_module_version": "1.2.0",
            "_view_name": "LayoutView",
            "align_content": null,
            "align_items": null,
            "align_self": null,
            "border": null,
            "bottom": null,
            "display": null,
            "flex": null,
            "flex_flow": null,
            "grid_area": null,
            "grid_auto_columns": null,
            "grid_auto_flow": null,
            "grid_auto_rows": null,
            "grid_column": null,
            "grid_gap": null,
            "grid_row": null,
            "grid_template_areas": null,
            "grid_template_columns": null,
            "grid_template_rows": null,
            "height": null,
            "justify_content": null,
            "justify_items": null,
            "left": null,
            "margin": null,
            "max_height": null,
            "max_width": null,
            "min_height": null,
            "min_width": null,
            "object_fit": null,
            "object_position": null,
            "order": null,
            "overflow": null,
            "overflow_x": null,
            "overflow_y": null,
            "padding": null,
            "right": null,
            "top": null,
            "visibility": null,
            "width": null
          }
        },
        "99b5d3148a474806b64e2295c0f5124f": {
          "model_module": "@jupyter-widgets/controls",
          "model_name": "DescriptionStyleModel",
          "model_module_version": "1.5.0",
          "state": {
            "_model_module": "@jupyter-widgets/controls",
            "_model_module_version": "1.5.0",
            "_model_name": "DescriptionStyleModel",
            "_view_count": null,
            "_view_module": "@jupyter-widgets/base",
            "_view_module_version": "1.2.0",
            "_view_name": "StyleView",
            "description_width": ""
          }
        },
        "4c8816c516164bc4aa51f692675ed93d": {
          "model_module": "@jupyter-widgets/controls",
          "model_name": "HBoxModel",
          "model_module_version": "1.5.0",
          "state": {
            "_dom_classes": [],
            "_model_module": "@jupyter-widgets/controls",
            "_model_module_version": "1.5.0",
            "_model_name": "HBoxModel",
            "_view_count": null,
            "_view_module": "@jupyter-widgets/controls",
            "_view_module_version": "1.5.0",
            "_view_name": "HBoxView",
            "box_style": "",
            "children": [
              "IPY_MODEL_2134ede42b254a5faab75d670a8bbdbc",
              "IPY_MODEL_6ce1644582014a279f76c418506d093e",
              "IPY_MODEL_a2c4a995d5d04ebda10b5f78d82b32c0"
            ],
            "layout": "IPY_MODEL_db57d0deb668463abaca24ae0e7df2d1"
          }
        },
        "2134ede42b254a5faab75d670a8bbdbc": {
          "model_module": "@jupyter-widgets/controls",
          "model_name": "HTMLModel",
          "model_module_version": "1.5.0",
          "state": {
            "_dom_classes": [],
            "_model_module": "@jupyter-widgets/controls",
            "_model_module_version": "1.5.0",
            "_model_name": "HTMLModel",
            "_view_count": null,
            "_view_module": "@jupyter-widgets/controls",
            "_view_module_version": "1.5.0",
            "_view_name": "HTMLView",
            "description": "",
            "description_tooltip": null,
            "layout": "IPY_MODEL_8a40cbd6c9754ceabd68f144eb53b707",
            "placeholder": "​",
            "style": "IPY_MODEL_66b9e9845d394977ad138bc6b17c3174",
            "value": "Random Undersampling Models: 100%"
          }
        },
        "6ce1644582014a279f76c418506d093e": {
          "model_module": "@jupyter-widgets/controls",
          "model_name": "FloatProgressModel",
          "model_module_version": "1.5.0",
          "state": {
            "_dom_classes": [],
            "_model_module": "@jupyter-widgets/controls",
            "_model_module_version": "1.5.0",
            "_model_name": "FloatProgressModel",
            "_view_count": null,
            "_view_module": "@jupyter-widgets/controls",
            "_view_module_version": "1.5.0",
            "_view_name": "ProgressView",
            "bar_style": "",
            "description": "",
            "description_tooltip": null,
            "layout": "IPY_MODEL_b149b78b2aa3464293e74e5e5155c490",
            "max": 3,
            "min": 0,
            "orientation": "horizontal",
            "style": "IPY_MODEL_8838dc5ec3624624a96702f9e1ccd41a",
            "value": 3
          }
        },
        "a2c4a995d5d04ebda10b5f78d82b32c0": {
          "model_module": "@jupyter-widgets/controls",
          "model_name": "HTMLModel",
          "model_module_version": "1.5.0",
          "state": {
            "_dom_classes": [],
            "_model_module": "@jupyter-widgets/controls",
            "_model_module_version": "1.5.0",
            "_model_name": "HTMLModel",
            "_view_count": null,
            "_view_module": "@jupyter-widgets/controls",
            "_view_module_version": "1.5.0",
            "_view_name": "HTMLView",
            "description": "",
            "description_tooltip": null,
            "layout": "IPY_MODEL_34d450d619ea431b9bcf9a9d3deaff4c",
            "placeholder": "​",
            "style": "IPY_MODEL_7cc1d7b2235544b7beb6f6c02102f36f",
            "value": " 3/3 [00:02&lt;00:00,  1.04s/it]"
          }
        },
        "db57d0deb668463abaca24ae0e7df2d1": {
          "model_module": "@jupyter-widgets/base",
          "model_name": "LayoutModel",
          "model_module_version": "1.2.0",
          "state": {
            "_model_module": "@jupyter-widgets/base",
            "_model_module_version": "1.2.0",
            "_model_name": "LayoutModel",
            "_view_count": null,
            "_view_module": "@jupyter-widgets/base",
            "_view_module_version": "1.2.0",
            "_view_name": "LayoutView",
            "align_content": null,
            "align_items": null,
            "align_self": null,
            "border": null,
            "bottom": null,
            "display": null,
            "flex": null,
            "flex_flow": null,
            "grid_area": null,
            "grid_auto_columns": null,
            "grid_auto_flow": null,
            "grid_auto_rows": null,
            "grid_column": null,
            "grid_gap": null,
            "grid_row": null,
            "grid_template_areas": null,
            "grid_template_columns": null,
            "grid_template_rows": null,
            "height": null,
            "justify_content": null,
            "justify_items": null,
            "left": null,
            "margin": null,
            "max_height": null,
            "max_width": null,
            "min_height": null,
            "min_width": null,
            "object_fit": null,
            "object_position": null,
            "order": null,
            "overflow": null,
            "overflow_x": null,
            "overflow_y": null,
            "padding": null,
            "right": null,
            "top": null,
            "visibility": "hidden",
            "width": null
          }
        },
        "8a40cbd6c9754ceabd68f144eb53b707": {
          "model_module": "@jupyter-widgets/base",
          "model_name": "LayoutModel",
          "model_module_version": "1.2.0",
          "state": {
            "_model_module": "@jupyter-widgets/base",
            "_model_module_version": "1.2.0",
            "_model_name": "LayoutModel",
            "_view_count": null,
            "_view_module": "@jupyter-widgets/base",
            "_view_module_version": "1.2.0",
            "_view_name": "LayoutView",
            "align_content": null,
            "align_items": null,
            "align_self": null,
            "border": null,
            "bottom": null,
            "display": null,
            "flex": null,
            "flex_flow": null,
            "grid_area": null,
            "grid_auto_columns": null,
            "grid_auto_flow": null,
            "grid_auto_rows": null,
            "grid_column": null,
            "grid_gap": null,
            "grid_row": null,
            "grid_template_areas": null,
            "grid_template_columns": null,
            "grid_template_rows": null,
            "height": null,
            "justify_content": null,
            "justify_items": null,
            "left": null,
            "margin": null,
            "max_height": null,
            "max_width": null,
            "min_height": null,
            "min_width": null,
            "object_fit": null,
            "object_position": null,
            "order": null,
            "overflow": null,
            "overflow_x": null,
            "overflow_y": null,
            "padding": null,
            "right": null,
            "top": null,
            "visibility": null,
            "width": null
          }
        },
        "66b9e9845d394977ad138bc6b17c3174": {
          "model_module": "@jupyter-widgets/controls",
          "model_name": "DescriptionStyleModel",
          "model_module_version": "1.5.0",
          "state": {
            "_model_module": "@jupyter-widgets/controls",
            "_model_module_version": "1.5.0",
            "_model_name": "DescriptionStyleModel",
            "_view_count": null,
            "_view_module": "@jupyter-widgets/base",
            "_view_module_version": "1.2.0",
            "_view_name": "StyleView",
            "description_width": ""
          }
        },
        "b149b78b2aa3464293e74e5e5155c490": {
          "model_module": "@jupyter-widgets/base",
          "model_name": "LayoutModel",
          "model_module_version": "1.2.0",
          "state": {
            "_model_module": "@jupyter-widgets/base",
            "_model_module_version": "1.2.0",
            "_model_name": "LayoutModel",
            "_view_count": null,
            "_view_module": "@jupyter-widgets/base",
            "_view_module_version": "1.2.0",
            "_view_name": "LayoutView",
            "align_content": null,
            "align_items": null,
            "align_self": null,
            "border": null,
            "bottom": null,
            "display": null,
            "flex": null,
            "flex_flow": null,
            "grid_area": null,
            "grid_auto_columns": null,
            "grid_auto_flow": null,
            "grid_auto_rows": null,
            "grid_column": null,
            "grid_gap": null,
            "grid_row": null,
            "grid_template_areas": null,
            "grid_template_columns": null,
            "grid_template_rows": null,
            "height": null,
            "justify_content": null,
            "justify_items": null,
            "left": null,
            "margin": null,
            "max_height": null,
            "max_width": null,
            "min_height": null,
            "min_width": null,
            "object_fit": null,
            "object_position": null,
            "order": null,
            "overflow": null,
            "overflow_x": null,
            "overflow_y": null,
            "padding": null,
            "right": null,
            "top": null,
            "visibility": null,
            "width": null
          }
        },
        "8838dc5ec3624624a96702f9e1ccd41a": {
          "model_module": "@jupyter-widgets/controls",
          "model_name": "ProgressStyleModel",
          "model_module_version": "1.5.0",
          "state": {
            "_model_module": "@jupyter-widgets/controls",
            "_model_module_version": "1.5.0",
            "_model_name": "ProgressStyleModel",
            "_view_count": null,
            "_view_module": "@jupyter-widgets/base",
            "_view_module_version": "1.2.0",
            "_view_name": "StyleView",
            "bar_color": null,
            "description_width": ""
          }
        },
        "34d450d619ea431b9bcf9a9d3deaff4c": {
          "model_module": "@jupyter-widgets/base",
          "model_name": "LayoutModel",
          "model_module_version": "1.2.0",
          "state": {
            "_model_module": "@jupyter-widgets/base",
            "_model_module_version": "1.2.0",
            "_model_name": "LayoutModel",
            "_view_count": null,
            "_view_module": "@jupyter-widgets/base",
            "_view_module_version": "1.2.0",
            "_view_name": "LayoutView",
            "align_content": null,
            "align_items": null,
            "align_self": null,
            "border": null,
            "bottom": null,
            "display": null,
            "flex": null,
            "flex_flow": null,
            "grid_area": null,
            "grid_auto_columns": null,
            "grid_auto_flow": null,
            "grid_auto_rows": null,
            "grid_column": null,
            "grid_gap": null,
            "grid_row": null,
            "grid_template_areas": null,
            "grid_template_columns": null,
            "grid_template_rows": null,
            "height": null,
            "justify_content": null,
            "justify_items": null,
            "left": null,
            "margin": null,
            "max_height": null,
            "max_width": null,
            "min_height": null,
            "min_width": null,
            "object_fit": null,
            "object_position": null,
            "order": null,
            "overflow": null,
            "overflow_x": null,
            "overflow_y": null,
            "padding": null,
            "right": null,
            "top": null,
            "visibility": null,
            "width": null
          }
        },
        "7cc1d7b2235544b7beb6f6c02102f36f": {
          "model_module": "@jupyter-widgets/controls",
          "model_name": "DescriptionStyleModel",
          "model_module_version": "1.5.0",
          "state": {
            "_model_module": "@jupyter-widgets/controls",
            "_model_module_version": "1.5.0",
            "_model_name": "DescriptionStyleModel",
            "_view_count": null,
            "_view_module": "@jupyter-widgets/base",
            "_view_module_version": "1.2.0",
            "_view_name": "StyleView",
            "description_width": ""
          }
        },
        "3e4aa3be9bfc4074a7b14df644dfa9ef": {
          "model_module": "@jupyter-widgets/controls",
          "model_name": "HBoxModel",
          "model_module_version": "1.5.0",
          "state": {
            "_dom_classes": [],
            "_model_module": "@jupyter-widgets/controls",
            "_model_module_version": "1.5.0",
            "_model_name": "HBoxModel",
            "_view_count": null,
            "_view_module": "@jupyter-widgets/controls",
            "_view_module_version": "1.5.0",
            "_view_name": "HBoxView",
            "box_style": "",
            "children": [
              "IPY_MODEL_479347b1236f4fb39960e1fd1190f1a5",
              "IPY_MODEL_bc8b968753204786b1c6fc41258eb60f",
              "IPY_MODEL_f008747fd1194da7942500ffdbeb7e37"
            ],
            "layout": "IPY_MODEL_951af6810031463eaddc7d5b07fa54be"
          }
        },
        "479347b1236f4fb39960e1fd1190f1a5": {
          "model_module": "@jupyter-widgets/controls",
          "model_name": "HTMLModel",
          "model_module_version": "1.5.0",
          "state": {
            "_dom_classes": [],
            "_model_module": "@jupyter-widgets/controls",
            "_model_module_version": "1.5.0",
            "_model_name": "HTMLModel",
            "_view_count": null,
            "_view_module": "@jupyter-widgets/controls",
            "_view_module_version": "1.5.0",
            "_view_name": "HTMLView",
            "description": "",
            "description_tooltip": null,
            "layout": "IPY_MODEL_c5d42158b9194d5ca2a7010fdee96816",
            "placeholder": "​",
            "style": "IPY_MODEL_a1c16d1d732346ecab3ab007630e780b",
            "value": "SMOTE Models: 100%"
          }
        },
        "bc8b968753204786b1c6fc41258eb60f": {
          "model_module": "@jupyter-widgets/controls",
          "model_name": "FloatProgressModel",
          "model_module_version": "1.5.0",
          "state": {
            "_dom_classes": [],
            "_model_module": "@jupyter-widgets/controls",
            "_model_module_version": "1.5.0",
            "_model_name": "FloatProgressModel",
            "_view_count": null,
            "_view_module": "@jupyter-widgets/controls",
            "_view_module_version": "1.5.0",
            "_view_name": "ProgressView",
            "bar_style": "",
            "description": "",
            "description_tooltip": null,
            "layout": "IPY_MODEL_65ec2ad4bf254910a8d5b0e135e55dd0",
            "max": 3,
            "min": 0,
            "orientation": "horizontal",
            "style": "IPY_MODEL_deb748463e9b4741a1c544b9e544d080",
            "value": 3
          }
        },
        "f008747fd1194da7942500ffdbeb7e37": {
          "model_module": "@jupyter-widgets/controls",
          "model_name": "HTMLModel",
          "model_module_version": "1.5.0",
          "state": {
            "_dom_classes": [],
            "_model_module": "@jupyter-widgets/controls",
            "_model_module_version": "1.5.0",
            "_model_name": "HTMLModel",
            "_view_count": null,
            "_view_module": "@jupyter-widgets/controls",
            "_view_module_version": "1.5.0",
            "_view_name": "HTMLView",
            "description": "",
            "description_tooltip": null,
            "layout": "IPY_MODEL_f59958597fe943ac9f27e99f239f31b0",
            "placeholder": "​",
            "style": "IPY_MODEL_38838d87f5d64d4cb318fa32e2908084",
            "value": " 3/3 [29:10&lt;00:00, 562.71s/it]"
          }
        },
        "951af6810031463eaddc7d5b07fa54be": {
          "model_module": "@jupyter-widgets/base",
          "model_name": "LayoutModel",
          "model_module_version": "1.2.0",
          "state": {
            "_model_module": "@jupyter-widgets/base",
            "_model_module_version": "1.2.0",
            "_model_name": "LayoutModel",
            "_view_count": null,
            "_view_module": "@jupyter-widgets/base",
            "_view_module_version": "1.2.0",
            "_view_name": "LayoutView",
            "align_content": null,
            "align_items": null,
            "align_self": null,
            "border": null,
            "bottom": null,
            "display": null,
            "flex": null,
            "flex_flow": null,
            "grid_area": null,
            "grid_auto_columns": null,
            "grid_auto_flow": null,
            "grid_auto_rows": null,
            "grid_column": null,
            "grid_gap": null,
            "grid_row": null,
            "grid_template_areas": null,
            "grid_template_columns": null,
            "grid_template_rows": null,
            "height": null,
            "justify_content": null,
            "justify_items": null,
            "left": null,
            "margin": null,
            "max_height": null,
            "max_width": null,
            "min_height": null,
            "min_width": null,
            "object_fit": null,
            "object_position": null,
            "order": null,
            "overflow": null,
            "overflow_x": null,
            "overflow_y": null,
            "padding": null,
            "right": null,
            "top": null,
            "visibility": "hidden",
            "width": null
          }
        },
        "c5d42158b9194d5ca2a7010fdee96816": {
          "model_module": "@jupyter-widgets/base",
          "model_name": "LayoutModel",
          "model_module_version": "1.2.0",
          "state": {
            "_model_module": "@jupyter-widgets/base",
            "_model_module_version": "1.2.0",
            "_model_name": "LayoutModel",
            "_view_count": null,
            "_view_module": "@jupyter-widgets/base",
            "_view_module_version": "1.2.0",
            "_view_name": "LayoutView",
            "align_content": null,
            "align_items": null,
            "align_self": null,
            "border": null,
            "bottom": null,
            "display": null,
            "flex": null,
            "flex_flow": null,
            "grid_area": null,
            "grid_auto_columns": null,
            "grid_auto_flow": null,
            "grid_auto_rows": null,
            "grid_column": null,
            "grid_gap": null,
            "grid_row": null,
            "grid_template_areas": null,
            "grid_template_columns": null,
            "grid_template_rows": null,
            "height": null,
            "justify_content": null,
            "justify_items": null,
            "left": null,
            "margin": null,
            "max_height": null,
            "max_width": null,
            "min_height": null,
            "min_width": null,
            "object_fit": null,
            "object_position": null,
            "order": null,
            "overflow": null,
            "overflow_x": null,
            "overflow_y": null,
            "padding": null,
            "right": null,
            "top": null,
            "visibility": null,
            "width": null
          }
        },
        "a1c16d1d732346ecab3ab007630e780b": {
          "model_module": "@jupyter-widgets/controls",
          "model_name": "DescriptionStyleModel",
          "model_module_version": "1.5.0",
          "state": {
            "_model_module": "@jupyter-widgets/controls",
            "_model_module_version": "1.5.0",
            "_model_name": "DescriptionStyleModel",
            "_view_count": null,
            "_view_module": "@jupyter-widgets/base",
            "_view_module_version": "1.2.0",
            "_view_name": "StyleView",
            "description_width": ""
          }
        },
        "65ec2ad4bf254910a8d5b0e135e55dd0": {
          "model_module": "@jupyter-widgets/base",
          "model_name": "LayoutModel",
          "model_module_version": "1.2.0",
          "state": {
            "_model_module": "@jupyter-widgets/base",
            "_model_module_version": "1.2.0",
            "_model_name": "LayoutModel",
            "_view_count": null,
            "_view_module": "@jupyter-widgets/base",
            "_view_module_version": "1.2.0",
            "_view_name": "LayoutView",
            "align_content": null,
            "align_items": null,
            "align_self": null,
            "border": null,
            "bottom": null,
            "display": null,
            "flex": null,
            "flex_flow": null,
            "grid_area": null,
            "grid_auto_columns": null,
            "grid_auto_flow": null,
            "grid_auto_rows": null,
            "grid_column": null,
            "grid_gap": null,
            "grid_row": null,
            "grid_template_areas": null,
            "grid_template_columns": null,
            "grid_template_rows": null,
            "height": null,
            "justify_content": null,
            "justify_items": null,
            "left": null,
            "margin": null,
            "max_height": null,
            "max_width": null,
            "min_height": null,
            "min_width": null,
            "object_fit": null,
            "object_position": null,
            "order": null,
            "overflow": null,
            "overflow_x": null,
            "overflow_y": null,
            "padding": null,
            "right": null,
            "top": null,
            "visibility": null,
            "width": null
          }
        },
        "deb748463e9b4741a1c544b9e544d080": {
          "model_module": "@jupyter-widgets/controls",
          "model_name": "ProgressStyleModel",
          "model_module_version": "1.5.0",
          "state": {
            "_model_module": "@jupyter-widgets/controls",
            "_model_module_version": "1.5.0",
            "_model_name": "ProgressStyleModel",
            "_view_count": null,
            "_view_module": "@jupyter-widgets/base",
            "_view_module_version": "1.2.0",
            "_view_name": "StyleView",
            "bar_color": null,
            "description_width": ""
          }
        },
        "f59958597fe943ac9f27e99f239f31b0": {
          "model_module": "@jupyter-widgets/base",
          "model_name": "LayoutModel",
          "model_module_version": "1.2.0",
          "state": {
            "_model_module": "@jupyter-widgets/base",
            "_model_module_version": "1.2.0",
            "_model_name": "LayoutModel",
            "_view_count": null,
            "_view_module": "@jupyter-widgets/base",
            "_view_module_version": "1.2.0",
            "_view_name": "LayoutView",
            "align_content": null,
            "align_items": null,
            "align_self": null,
            "border": null,
            "bottom": null,
            "display": null,
            "flex": null,
            "flex_flow": null,
            "grid_area": null,
            "grid_auto_columns": null,
            "grid_auto_flow": null,
            "grid_auto_rows": null,
            "grid_column": null,
            "grid_gap": null,
            "grid_row": null,
            "grid_template_areas": null,
            "grid_template_columns": null,
            "grid_template_rows": null,
            "height": null,
            "justify_content": null,
            "justify_items": null,
            "left": null,
            "margin": null,
            "max_height": null,
            "max_width": null,
            "min_height": null,
            "min_width": null,
            "object_fit": null,
            "object_position": null,
            "order": null,
            "overflow": null,
            "overflow_x": null,
            "overflow_y": null,
            "padding": null,
            "right": null,
            "top": null,
            "visibility": null,
            "width": null
          }
        },
        "38838d87f5d64d4cb318fa32e2908084": {
          "model_module": "@jupyter-widgets/controls",
          "model_name": "DescriptionStyleModel",
          "model_module_version": "1.5.0",
          "state": {
            "_model_module": "@jupyter-widgets/controls",
            "_model_module_version": "1.5.0",
            "_model_name": "DescriptionStyleModel",
            "_view_count": null,
            "_view_module": "@jupyter-widgets/base",
            "_view_module_version": "1.2.0",
            "_view_name": "StyleView",
            "description_width": ""
          }
        },
        "e71b20f481054a5f8d2999155e8101c9": {
          "model_module": "@jupyter-widgets/controls",
          "model_name": "HBoxModel",
          "model_module_version": "1.5.0",
          "state": {
            "_dom_classes": [],
            "_model_module": "@jupyter-widgets/controls",
            "_model_module_version": "1.5.0",
            "_model_name": "HBoxModel",
            "_view_count": null,
            "_view_module": "@jupyter-widgets/controls",
            "_view_module_version": "1.5.0",
            "_view_name": "HBoxView",
            "box_style": "",
            "children": [
              "IPY_MODEL_0dfcf708056341d5b85d7ab1b230926d",
              "IPY_MODEL_f406a21370c04bfebec08aa32a5b71f8",
              "IPY_MODEL_5354c3eb100f4bd19c5610277a894ab0"
            ],
            "layout": "IPY_MODEL_57e4128b99e34cf88c9b08f61c6082fd"
          }
        },
        "0dfcf708056341d5b85d7ab1b230926d": {
          "model_module": "@jupyter-widgets/controls",
          "model_name": "HTMLModel",
          "model_module_version": "1.5.0",
          "state": {
            "_dom_classes": [],
            "_model_module": "@jupyter-widgets/controls",
            "_model_module_version": "1.5.0",
            "_model_name": "HTMLModel",
            "_view_count": null,
            "_view_module": "@jupyter-widgets/controls",
            "_view_module_version": "1.5.0",
            "_view_name": "HTMLView",
            "description": "",
            "description_tooltip": null,
            "layout": "IPY_MODEL_2b7ef3e7b8f244e58878999ac617a9c4",
            "placeholder": "​",
            "style": "IPY_MODEL_f990fcf2a5d34b61adb6a89e6b68e06d",
            "value": "Class Weighting Models: 100%"
          }
        },
        "f406a21370c04bfebec08aa32a5b71f8": {
          "model_module": "@jupyter-widgets/controls",
          "model_name": "FloatProgressModel",
          "model_module_version": "1.5.0",
          "state": {
            "_dom_classes": [],
            "_model_module": "@jupyter-widgets/controls",
            "_model_module_version": "1.5.0",
            "_model_name": "FloatProgressModel",
            "_view_count": null,
            "_view_module": "@jupyter-widgets/controls",
            "_view_module_version": "1.5.0",
            "_view_name": "ProgressView",
            "bar_style": "",
            "description": "",
            "description_tooltip": null,
            "layout": "IPY_MODEL_bca718e8e3934373991853984f947f07",
            "max": 3,
            "min": 0,
            "orientation": "horizontal",
            "style": "IPY_MODEL_4c8dc24db5f2490d919e6568f769ff4d",
            "value": 3
          }
        },
        "5354c3eb100f4bd19c5610277a894ab0": {
          "model_module": "@jupyter-widgets/controls",
          "model_name": "HTMLModel",
          "model_module_version": "1.5.0",
          "state": {
            "_dom_classes": [],
            "_model_module": "@jupyter-widgets/controls",
            "_model_module_version": "1.5.0",
            "_model_name": "HTMLModel",
            "_view_count": null,
            "_view_module": "@jupyter-widgets/controls",
            "_view_module_version": "1.5.0",
            "_view_name": "HTMLView",
            "description": "",
            "description_tooltip": null,
            "layout": "IPY_MODEL_ceced5555ee14b60bc7d10cd99271256",
            "placeholder": "​",
            "style": "IPY_MODEL_15cdabaa60fb4f4ab7e5bb5cb614598e",
            "value": " 3/3 [09:18&lt;00:00, 179.70s/it]"
          }
        },
        "57e4128b99e34cf88c9b08f61c6082fd": {
          "model_module": "@jupyter-widgets/base",
          "model_name": "LayoutModel",
          "model_module_version": "1.2.0",
          "state": {
            "_model_module": "@jupyter-widgets/base",
            "_model_module_version": "1.2.0",
            "_model_name": "LayoutModel",
            "_view_count": null,
            "_view_module": "@jupyter-widgets/base",
            "_view_module_version": "1.2.0",
            "_view_name": "LayoutView",
            "align_content": null,
            "align_items": null,
            "align_self": null,
            "border": null,
            "bottom": null,
            "display": null,
            "flex": null,
            "flex_flow": null,
            "grid_area": null,
            "grid_auto_columns": null,
            "grid_auto_flow": null,
            "grid_auto_rows": null,
            "grid_column": null,
            "grid_gap": null,
            "grid_row": null,
            "grid_template_areas": null,
            "grid_template_columns": null,
            "grid_template_rows": null,
            "height": null,
            "justify_content": null,
            "justify_items": null,
            "left": null,
            "margin": null,
            "max_height": null,
            "max_width": null,
            "min_height": null,
            "min_width": null,
            "object_fit": null,
            "object_position": null,
            "order": null,
            "overflow": null,
            "overflow_x": null,
            "overflow_y": null,
            "padding": null,
            "right": null,
            "top": null,
            "visibility": "hidden",
            "width": null
          }
        },
        "2b7ef3e7b8f244e58878999ac617a9c4": {
          "model_module": "@jupyter-widgets/base",
          "model_name": "LayoutModel",
          "model_module_version": "1.2.0",
          "state": {
            "_model_module": "@jupyter-widgets/base",
            "_model_module_version": "1.2.0",
            "_model_name": "LayoutModel",
            "_view_count": null,
            "_view_module": "@jupyter-widgets/base",
            "_view_module_version": "1.2.0",
            "_view_name": "LayoutView",
            "align_content": null,
            "align_items": null,
            "align_self": null,
            "border": null,
            "bottom": null,
            "display": null,
            "flex": null,
            "flex_flow": null,
            "grid_area": null,
            "grid_auto_columns": null,
            "grid_auto_flow": null,
            "grid_auto_rows": null,
            "grid_column": null,
            "grid_gap": null,
            "grid_row": null,
            "grid_template_areas": null,
            "grid_template_columns": null,
            "grid_template_rows": null,
            "height": null,
            "justify_content": null,
            "justify_items": null,
            "left": null,
            "margin": null,
            "max_height": null,
            "max_width": null,
            "min_height": null,
            "min_width": null,
            "object_fit": null,
            "object_position": null,
            "order": null,
            "overflow": null,
            "overflow_x": null,
            "overflow_y": null,
            "padding": null,
            "right": null,
            "top": null,
            "visibility": null,
            "width": null
          }
        },
        "f990fcf2a5d34b61adb6a89e6b68e06d": {
          "model_module": "@jupyter-widgets/controls",
          "model_name": "DescriptionStyleModel",
          "model_module_version": "1.5.0",
          "state": {
            "_model_module": "@jupyter-widgets/controls",
            "_model_module_version": "1.5.0",
            "_model_name": "DescriptionStyleModel",
            "_view_count": null,
            "_view_module": "@jupyter-widgets/base",
            "_view_module_version": "1.2.0",
            "_view_name": "StyleView",
            "description_width": ""
          }
        },
        "bca718e8e3934373991853984f947f07": {
          "model_module": "@jupyter-widgets/base",
          "model_name": "LayoutModel",
          "model_module_version": "1.2.0",
          "state": {
            "_model_module": "@jupyter-widgets/base",
            "_model_module_version": "1.2.0",
            "_model_name": "LayoutModel",
            "_view_count": null,
            "_view_module": "@jupyter-widgets/base",
            "_view_module_version": "1.2.0",
            "_view_name": "LayoutView",
            "align_content": null,
            "align_items": null,
            "align_self": null,
            "border": null,
            "bottom": null,
            "display": null,
            "flex": null,
            "flex_flow": null,
            "grid_area": null,
            "grid_auto_columns": null,
            "grid_auto_flow": null,
            "grid_auto_rows": null,
            "grid_column": null,
            "grid_gap": null,
            "grid_row": null,
            "grid_template_areas": null,
            "grid_template_columns": null,
            "grid_template_rows": null,
            "height": null,
            "justify_content": null,
            "justify_items": null,
            "left": null,
            "margin": null,
            "max_height": null,
            "max_width": null,
            "min_height": null,
            "min_width": null,
            "object_fit": null,
            "object_position": null,
            "order": null,
            "overflow": null,
            "overflow_x": null,
            "overflow_y": null,
            "padding": null,
            "right": null,
            "top": null,
            "visibility": null,
            "width": null
          }
        },
        "4c8dc24db5f2490d919e6568f769ff4d": {
          "model_module": "@jupyter-widgets/controls",
          "model_name": "ProgressStyleModel",
          "model_module_version": "1.5.0",
          "state": {
            "_model_module": "@jupyter-widgets/controls",
            "_model_module_version": "1.5.0",
            "_model_name": "ProgressStyleModel",
            "_view_count": null,
            "_view_module": "@jupyter-widgets/base",
            "_view_module_version": "1.2.0",
            "_view_name": "StyleView",
            "bar_color": null,
            "description_width": ""
          }
        },
        "ceced5555ee14b60bc7d10cd99271256": {
          "model_module": "@jupyter-widgets/base",
          "model_name": "LayoutModel",
          "model_module_version": "1.2.0",
          "state": {
            "_model_module": "@jupyter-widgets/base",
            "_model_module_version": "1.2.0",
            "_model_name": "LayoutModel",
            "_view_count": null,
            "_view_module": "@jupyter-widgets/base",
            "_view_module_version": "1.2.0",
            "_view_name": "LayoutView",
            "align_content": null,
            "align_items": null,
            "align_self": null,
            "border": null,
            "bottom": null,
            "display": null,
            "flex": null,
            "flex_flow": null,
            "grid_area": null,
            "grid_auto_columns": null,
            "grid_auto_flow": null,
            "grid_auto_rows": null,
            "grid_column": null,
            "grid_gap": null,
            "grid_row": null,
            "grid_template_areas": null,
            "grid_template_columns": null,
            "grid_template_rows": null,
            "height": null,
            "justify_content": null,
            "justify_items": null,
            "left": null,
            "margin": null,
            "max_height": null,
            "max_width": null,
            "min_height": null,
            "min_width": null,
            "object_fit": null,
            "object_position": null,
            "order": null,
            "overflow": null,
            "overflow_x": null,
            "overflow_y": null,
            "padding": null,
            "right": null,
            "top": null,
            "visibility": null,
            "width": null
          }
        },
        "15cdabaa60fb4f4ab7e5bb5cb614598e": {
          "model_module": "@jupyter-widgets/controls",
          "model_name": "DescriptionStyleModel",
          "model_module_version": "1.5.0",
          "state": {
            "_model_module": "@jupyter-widgets/controls",
            "_model_module_version": "1.5.0",
            "_model_name": "DescriptionStyleModel",
            "_view_count": null,
            "_view_module": "@jupyter-widgets/base",
            "_view_module_version": "1.2.0",
            "_view_name": "StyleView",
            "description_width": ""
          }
        },
        "b0b5bbd886704988a6cf669f9f716848": {
          "model_module": "@jupyter-widgets/controls",
          "model_name": "HBoxModel",
          "model_module_version": "1.5.0",
          "state": {
            "_dom_classes": [],
            "_model_module": "@jupyter-widgets/controls",
            "_model_module_version": "1.5.0",
            "_model_name": "HBoxModel",
            "_view_count": null,
            "_view_module": "@jupyter-widgets/controls",
            "_view_module_version": "1.5.0",
            "_view_name": "HBoxView",
            "box_style": "",
            "children": [
              "IPY_MODEL_43a6f36447d64153aad2ad3e206b635a",
              "IPY_MODEL_fdf08c12ec21465f9838e972acd7b08d",
              "IPY_MODEL_f00e4df8ad0a4dd68c907c0772441061"
            ],
            "layout": "IPY_MODEL_50f1787f11634e96ba0c7e42162997f3"
          }
        },
        "43a6f36447d64153aad2ad3e206b635a": {
          "model_module": "@jupyter-widgets/controls",
          "model_name": "HTMLModel",
          "model_module_version": "1.5.0",
          "state": {
            "_dom_classes": [],
            "_model_module": "@jupyter-widgets/controls",
            "_model_module_version": "1.5.0",
            "_model_name": "HTMLModel",
            "_view_count": null,
            "_view_module": "@jupyter-widgets/controls",
            "_view_module_version": "1.5.0",
            "_view_name": "HTMLView",
            "description": "",
            "description_tooltip": null,
            "layout": "IPY_MODEL_cd6b99cf63b04f7fb8c81bf28724f304",
            "placeholder": "​",
            "style": "IPY_MODEL_3eb3d8b1fd3540ac8de5ed441d26c346",
            "value": "Balanced RF Models: 100%"
          }
        },
        "fdf08c12ec21465f9838e972acd7b08d": {
          "model_module": "@jupyter-widgets/controls",
          "model_name": "FloatProgressModel",
          "model_module_version": "1.5.0",
          "state": {
            "_dom_classes": [],
            "_model_module": "@jupyter-widgets/controls",
            "_model_module_version": "1.5.0",
            "_model_name": "FloatProgressModel",
            "_view_count": null,
            "_view_module": "@jupyter-widgets/controls",
            "_view_module_version": "1.5.0",
            "_view_name": "ProgressView",
            "bar_style": "",
            "description": "",
            "description_tooltip": null,
            "layout": "IPY_MODEL_31dd24a509494d1c8cf6a0f49a15093e",
            "max": 3,
            "min": 0,
            "orientation": "horizontal",
            "style": "IPY_MODEL_ae0c398d29044371b1807c3b6c36864e",
            "value": 3
          }
        },
        "f00e4df8ad0a4dd68c907c0772441061": {
          "model_module": "@jupyter-widgets/controls",
          "model_name": "HTMLModel",
          "model_module_version": "1.5.0",
          "state": {
            "_dom_classes": [],
            "_model_module": "@jupyter-widgets/controls",
            "_model_module_version": "1.5.0",
            "_model_name": "HTMLModel",
            "_view_count": null,
            "_view_module": "@jupyter-widgets/controls",
            "_view_module_version": "1.5.0",
            "_view_name": "HTMLView",
            "description": "",
            "description_tooltip": null,
            "layout": "IPY_MODEL_9a7cd83e596a420cb353cb86da1571d7",
            "placeholder": "​",
            "style": "IPY_MODEL_547f8a71c8c747d1a9e46044d1d8c7de",
            "value": " 3/3 [16:27&lt;00:00, 316.70s/it]"
          }
        },
        "50f1787f11634e96ba0c7e42162997f3": {
          "model_module": "@jupyter-widgets/base",
          "model_name": "LayoutModel",
          "model_module_version": "1.2.0",
          "state": {
            "_model_module": "@jupyter-widgets/base",
            "_model_module_version": "1.2.0",
            "_model_name": "LayoutModel",
            "_view_count": null,
            "_view_module": "@jupyter-widgets/base",
            "_view_module_version": "1.2.0",
            "_view_name": "LayoutView",
            "align_content": null,
            "align_items": null,
            "align_self": null,
            "border": null,
            "bottom": null,
            "display": null,
            "flex": null,
            "flex_flow": null,
            "grid_area": null,
            "grid_auto_columns": null,
            "grid_auto_flow": null,
            "grid_auto_rows": null,
            "grid_column": null,
            "grid_gap": null,
            "grid_row": null,
            "grid_template_areas": null,
            "grid_template_columns": null,
            "grid_template_rows": null,
            "height": null,
            "justify_content": null,
            "justify_items": null,
            "left": null,
            "margin": null,
            "max_height": null,
            "max_width": null,
            "min_height": null,
            "min_width": null,
            "object_fit": null,
            "object_position": null,
            "order": null,
            "overflow": null,
            "overflow_x": null,
            "overflow_y": null,
            "padding": null,
            "right": null,
            "top": null,
            "visibility": "hidden",
            "width": null
          }
        },
        "cd6b99cf63b04f7fb8c81bf28724f304": {
          "model_module": "@jupyter-widgets/base",
          "model_name": "LayoutModel",
          "model_module_version": "1.2.0",
          "state": {
            "_model_module": "@jupyter-widgets/base",
            "_model_module_version": "1.2.0",
            "_model_name": "LayoutModel",
            "_view_count": null,
            "_view_module": "@jupyter-widgets/base",
            "_view_module_version": "1.2.0",
            "_view_name": "LayoutView",
            "align_content": null,
            "align_items": null,
            "align_self": null,
            "border": null,
            "bottom": null,
            "display": null,
            "flex": null,
            "flex_flow": null,
            "grid_area": null,
            "grid_auto_columns": null,
            "grid_auto_flow": null,
            "grid_auto_rows": null,
            "grid_column": null,
            "grid_gap": null,
            "grid_row": null,
            "grid_template_areas": null,
            "grid_template_columns": null,
            "grid_template_rows": null,
            "height": null,
            "justify_content": null,
            "justify_items": null,
            "left": null,
            "margin": null,
            "max_height": null,
            "max_width": null,
            "min_height": null,
            "min_width": null,
            "object_fit": null,
            "object_position": null,
            "order": null,
            "overflow": null,
            "overflow_x": null,
            "overflow_y": null,
            "padding": null,
            "right": null,
            "top": null,
            "visibility": null,
            "width": null
          }
        },
        "3eb3d8b1fd3540ac8de5ed441d26c346": {
          "model_module": "@jupyter-widgets/controls",
          "model_name": "DescriptionStyleModel",
          "model_module_version": "1.5.0",
          "state": {
            "_model_module": "@jupyter-widgets/controls",
            "_model_module_version": "1.5.0",
            "_model_name": "DescriptionStyleModel",
            "_view_count": null,
            "_view_module": "@jupyter-widgets/base",
            "_view_module_version": "1.2.0",
            "_view_name": "StyleView",
            "description_width": ""
          }
        },
        "31dd24a509494d1c8cf6a0f49a15093e": {
          "model_module": "@jupyter-widgets/base",
          "model_name": "LayoutModel",
          "model_module_version": "1.2.0",
          "state": {
            "_model_module": "@jupyter-widgets/base",
            "_model_module_version": "1.2.0",
            "_model_name": "LayoutModel",
            "_view_count": null,
            "_view_module": "@jupyter-widgets/base",
            "_view_module_version": "1.2.0",
            "_view_name": "LayoutView",
            "align_content": null,
            "align_items": null,
            "align_self": null,
            "border": null,
            "bottom": null,
            "display": null,
            "flex": null,
            "flex_flow": null,
            "grid_area": null,
            "grid_auto_columns": null,
            "grid_auto_flow": null,
            "grid_auto_rows": null,
            "grid_column": null,
            "grid_gap": null,
            "grid_row": null,
            "grid_template_areas": null,
            "grid_template_columns": null,
            "grid_template_rows": null,
            "height": null,
            "justify_content": null,
            "justify_items": null,
            "left": null,
            "margin": null,
            "max_height": null,
            "max_width": null,
            "min_height": null,
            "min_width": null,
            "object_fit": null,
            "object_position": null,
            "order": null,
            "overflow": null,
            "overflow_x": null,
            "overflow_y": null,
            "padding": null,
            "right": null,
            "top": null,
            "visibility": null,
            "width": null
          }
        },
        "ae0c398d29044371b1807c3b6c36864e": {
          "model_module": "@jupyter-widgets/controls",
          "model_name": "ProgressStyleModel",
          "model_module_version": "1.5.0",
          "state": {
            "_model_module": "@jupyter-widgets/controls",
            "_model_module_version": "1.5.0",
            "_model_name": "ProgressStyleModel",
            "_view_count": null,
            "_view_module": "@jupyter-widgets/base",
            "_view_module_version": "1.2.0",
            "_view_name": "StyleView",
            "bar_color": null,
            "description_width": ""
          }
        },
        "9a7cd83e596a420cb353cb86da1571d7": {
          "model_module": "@jupyter-widgets/base",
          "model_name": "LayoutModel",
          "model_module_version": "1.2.0",
          "state": {
            "_model_module": "@jupyter-widgets/base",
            "_model_module_version": "1.2.0",
            "_model_name": "LayoutModel",
            "_view_count": null,
            "_view_module": "@jupyter-widgets/base",
            "_view_module_version": "1.2.0",
            "_view_name": "LayoutView",
            "align_content": null,
            "align_items": null,
            "align_self": null,
            "border": null,
            "bottom": null,
            "display": null,
            "flex": null,
            "flex_flow": null,
            "grid_area": null,
            "grid_auto_columns": null,
            "grid_auto_flow": null,
            "grid_auto_rows": null,
            "grid_column": null,
            "grid_gap": null,
            "grid_row": null,
            "grid_template_areas": null,
            "grid_template_columns": null,
            "grid_template_rows": null,
            "height": null,
            "justify_content": null,
            "justify_items": null,
            "left": null,
            "margin": null,
            "max_height": null,
            "max_width": null,
            "min_height": null,
            "min_width": null,
            "object_fit": null,
            "object_position": null,
            "order": null,
            "overflow": null,
            "overflow_x": null,
            "overflow_y": null,
            "padding": null,
            "right": null,
            "top": null,
            "visibility": null,
            "width": null
          }
        },
        "547f8a71c8c747d1a9e46044d1d8c7de": {
          "model_module": "@jupyter-widgets/controls",
          "model_name": "DescriptionStyleModel",
          "model_module_version": "1.5.0",
          "state": {
            "_model_module": "@jupyter-widgets/controls",
            "_model_module_version": "1.5.0",
            "_model_name": "DescriptionStyleModel",
            "_view_count": null,
            "_view_module": "@jupyter-widgets/base",
            "_view_module_version": "1.2.0",
            "_view_name": "StyleView",
            "description_width": ""
          }
        },
        "9b34ad20107845dca03a1b2eddedaebc": {
          "model_module": "@jupyter-widgets/controls",
          "model_name": "HBoxModel",
          "model_module_version": "1.5.0",
          "state": {
            "_dom_classes": [],
            "_model_module": "@jupyter-widgets/controls",
            "_model_module_version": "1.5.0",
            "_model_name": "HBoxModel",
            "_view_count": null,
            "_view_module": "@jupyter-widgets/controls",
            "_view_module_version": "1.5.0",
            "_view_name": "HBoxView",
            "box_style": "",
            "children": [
              "IPY_MODEL_09514ccf1c5543419a0df8280b41c17b",
              "IPY_MODEL_1020d55270bb432188424b6676efc52a",
              "IPY_MODEL_fa4ef4ca0ef0439bb6bcb06de96a5058"
            ],
            "layout": "IPY_MODEL_6cf5a9d853bb4c06995bc2b1794ffdab"
          }
        },
        "09514ccf1c5543419a0df8280b41c17b": {
          "model_module": "@jupyter-widgets/controls",
          "model_name": "HTMLModel",
          "model_module_version": "1.5.0",
          "state": {
            "_dom_classes": [],
            "_model_module": "@jupyter-widgets/controls",
            "_model_module_version": "1.5.0",
            "_model_name": "HTMLModel",
            "_view_count": null,
            "_view_module": "@jupyter-widgets/controls",
            "_view_module_version": "1.5.0",
            "_view_name": "HTMLView",
            "description": "",
            "description_tooltip": null,
            "layout": "IPY_MODEL_176558356f3a425faef9543ae5f0357e",
            "placeholder": "​",
            "style": "IPY_MODEL_07fda6a30eec48daa1e8da35d439245a",
            "value": "K-SMOTEENN Models: 100%"
          }
        },
        "1020d55270bb432188424b6676efc52a": {
          "model_module": "@jupyter-widgets/controls",
          "model_name": "FloatProgressModel",
          "model_module_version": "1.5.0",
          "state": {
            "_dom_classes": [],
            "_model_module": "@jupyter-widgets/controls",
            "_model_module_version": "1.5.0",
            "_model_name": "FloatProgressModel",
            "_view_count": null,
            "_view_module": "@jupyter-widgets/controls",
            "_view_module_version": "1.5.0",
            "_view_name": "ProgressView",
            "bar_style": "",
            "description": "",
            "description_tooltip": null,
            "layout": "IPY_MODEL_9ff69ea044934cd4b7fa23f7b9791105",
            "max": 3,
            "min": 0,
            "orientation": "horizontal",
            "style": "IPY_MODEL_0224a22672bd48178c7b8f7c57fa156b",
            "value": 3
          }
        },
        "fa4ef4ca0ef0439bb6bcb06de96a5058": {
          "model_module": "@jupyter-widgets/controls",
          "model_name": "HTMLModel",
          "model_module_version": "1.5.0",
          "state": {
            "_dom_classes": [],
            "_model_module": "@jupyter-widgets/controls",
            "_model_module_version": "1.5.0",
            "_model_name": "HTMLModel",
            "_view_count": null,
            "_view_module": "@jupyter-widgets/controls",
            "_view_module_version": "1.5.0",
            "_view_name": "HTMLView",
            "description": "",
            "description_tooltip": null,
            "layout": "IPY_MODEL_13f0d439d08042cca16c3636e3c2bd93",
            "placeholder": "​",
            "style": "IPY_MODEL_a7cb65a7ef764026addba538cf83a74c",
            "value": " 3/3 [26:00&lt;00:00, 501.45s/it]"
          }
        },
        "6cf5a9d853bb4c06995bc2b1794ffdab": {
          "model_module": "@jupyter-widgets/base",
          "model_name": "LayoutModel",
          "model_module_version": "1.2.0",
          "state": {
            "_model_module": "@jupyter-widgets/base",
            "_model_module_version": "1.2.0",
            "_model_name": "LayoutModel",
            "_view_count": null,
            "_view_module": "@jupyter-widgets/base",
            "_view_module_version": "1.2.0",
            "_view_name": "LayoutView",
            "align_content": null,
            "align_items": null,
            "align_self": null,
            "border": null,
            "bottom": null,
            "display": null,
            "flex": null,
            "flex_flow": null,
            "grid_area": null,
            "grid_auto_columns": null,
            "grid_auto_flow": null,
            "grid_auto_rows": null,
            "grid_column": null,
            "grid_gap": null,
            "grid_row": null,
            "grid_template_areas": null,
            "grid_template_columns": null,
            "grid_template_rows": null,
            "height": null,
            "justify_content": null,
            "justify_items": null,
            "left": null,
            "margin": null,
            "max_height": null,
            "max_width": null,
            "min_height": null,
            "min_width": null,
            "object_fit": null,
            "object_position": null,
            "order": null,
            "overflow": null,
            "overflow_x": null,
            "overflow_y": null,
            "padding": null,
            "right": null,
            "top": null,
            "visibility": "hidden",
            "width": null
          }
        },
        "176558356f3a425faef9543ae5f0357e": {
          "model_module": "@jupyter-widgets/base",
          "model_name": "LayoutModel",
          "model_module_version": "1.2.0",
          "state": {
            "_model_module": "@jupyter-widgets/base",
            "_model_module_version": "1.2.0",
            "_model_name": "LayoutModel",
            "_view_count": null,
            "_view_module": "@jupyter-widgets/base",
            "_view_module_version": "1.2.0",
            "_view_name": "LayoutView",
            "align_content": null,
            "align_items": null,
            "align_self": null,
            "border": null,
            "bottom": null,
            "display": null,
            "flex": null,
            "flex_flow": null,
            "grid_area": null,
            "grid_auto_columns": null,
            "grid_auto_flow": null,
            "grid_auto_rows": null,
            "grid_column": null,
            "grid_gap": null,
            "grid_row": null,
            "grid_template_areas": null,
            "grid_template_columns": null,
            "grid_template_rows": null,
            "height": null,
            "justify_content": null,
            "justify_items": null,
            "left": null,
            "margin": null,
            "max_height": null,
            "max_width": null,
            "min_height": null,
            "min_width": null,
            "object_fit": null,
            "object_position": null,
            "order": null,
            "overflow": null,
            "overflow_x": null,
            "overflow_y": null,
            "padding": null,
            "right": null,
            "top": null,
            "visibility": null,
            "width": null
          }
        },
        "07fda6a30eec48daa1e8da35d439245a": {
          "model_module": "@jupyter-widgets/controls",
          "model_name": "DescriptionStyleModel",
          "model_module_version": "1.5.0",
          "state": {
            "_model_module": "@jupyter-widgets/controls",
            "_model_module_version": "1.5.0",
            "_model_name": "DescriptionStyleModel",
            "_view_count": null,
            "_view_module": "@jupyter-widgets/base",
            "_view_module_version": "1.2.0",
            "_view_name": "StyleView",
            "description_width": ""
          }
        },
        "9ff69ea044934cd4b7fa23f7b9791105": {
          "model_module": "@jupyter-widgets/base",
          "model_name": "LayoutModel",
          "model_module_version": "1.2.0",
          "state": {
            "_model_module": "@jupyter-widgets/base",
            "_model_module_version": "1.2.0",
            "_model_name": "LayoutModel",
            "_view_count": null,
            "_view_module": "@jupyter-widgets/base",
            "_view_module_version": "1.2.0",
            "_view_name": "LayoutView",
            "align_content": null,
            "align_items": null,
            "align_self": null,
            "border": null,
            "bottom": null,
            "display": null,
            "flex": null,
            "flex_flow": null,
            "grid_area": null,
            "grid_auto_columns": null,
            "grid_auto_flow": null,
            "grid_auto_rows": null,
            "grid_column": null,
            "grid_gap": null,
            "grid_row": null,
            "grid_template_areas": null,
            "grid_template_columns": null,
            "grid_template_rows": null,
            "height": null,
            "justify_content": null,
            "justify_items": null,
            "left": null,
            "margin": null,
            "max_height": null,
            "max_width": null,
            "min_height": null,
            "min_width": null,
            "object_fit": null,
            "object_position": null,
            "order": null,
            "overflow": null,
            "overflow_x": null,
            "overflow_y": null,
            "padding": null,
            "right": null,
            "top": null,
            "visibility": null,
            "width": null
          }
        },
        "0224a22672bd48178c7b8f7c57fa156b": {
          "model_module": "@jupyter-widgets/controls",
          "model_name": "ProgressStyleModel",
          "model_module_version": "1.5.0",
          "state": {
            "_model_module": "@jupyter-widgets/controls",
            "_model_module_version": "1.5.0",
            "_model_name": "ProgressStyleModel",
            "_view_count": null,
            "_view_module": "@jupyter-widgets/base",
            "_view_module_version": "1.2.0",
            "_view_name": "StyleView",
            "bar_color": null,
            "description_width": ""
          }
        },
        "13f0d439d08042cca16c3636e3c2bd93": {
          "model_module": "@jupyter-widgets/base",
          "model_name": "LayoutModel",
          "model_module_version": "1.2.0",
          "state": {
            "_model_module": "@jupyter-widgets/base",
            "_model_module_version": "1.2.0",
            "_model_name": "LayoutModel",
            "_view_count": null,
            "_view_module": "@jupyter-widgets/base",
            "_view_module_version": "1.2.0",
            "_view_name": "LayoutView",
            "align_content": null,
            "align_items": null,
            "align_self": null,
            "border": null,
            "bottom": null,
            "display": null,
            "flex": null,
            "flex_flow": null,
            "grid_area": null,
            "grid_auto_columns": null,
            "grid_auto_flow": null,
            "grid_auto_rows": null,
            "grid_column": null,
            "grid_gap": null,
            "grid_row": null,
            "grid_template_areas": null,
            "grid_template_columns": null,
            "grid_template_rows": null,
            "height": null,
            "justify_content": null,
            "justify_items": null,
            "left": null,
            "margin": null,
            "max_height": null,
            "max_width": null,
            "min_height": null,
            "min_width": null,
            "object_fit": null,
            "object_position": null,
            "order": null,
            "overflow": null,
            "overflow_x": null,
            "overflow_y": null,
            "padding": null,
            "right": null,
            "top": null,
            "visibility": null,
            "width": null
          }
        },
        "a7cb65a7ef764026addba538cf83a74c": {
          "model_module": "@jupyter-widgets/controls",
          "model_name": "DescriptionStyleModel",
          "model_module_version": "1.5.0",
          "state": {
            "_model_module": "@jupyter-widgets/controls",
            "_model_module_version": "1.5.0",
            "_model_name": "DescriptionStyleModel",
            "_view_count": null,
            "_view_module": "@jupyter-widgets/base",
            "_view_module_version": "1.2.0",
            "_view_name": "StyleView",
            "description_width": ""
          }
        }
      }
    }
  },
  "nbformat": 4,
  "nbformat_minor": 0
}